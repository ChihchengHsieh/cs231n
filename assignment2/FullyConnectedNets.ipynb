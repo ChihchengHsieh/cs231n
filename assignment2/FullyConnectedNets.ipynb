{
 "cells": [
  {
   "cell_type": "markdown",
   "metadata": {},
   "source": [
    "# Fully-Connected Neural Nets\n",
    "In the previous homework you implemented a fully-connected two-layer neural network on CIFAR-10. The implementation was simple but not very modular since the loss and gradient were computed in a single monolithic function. This is manageable for a simple two-layer network, but would become impractical as we move to bigger models. Ideally we want to build networks using a more modular design so that we can implement different layer types in isolation and then snap them together into models with different architectures.\n",
    "\n",
    "In this exercise we will implement fully-connected networks using a more modular approach. For each layer we will implement a `forward` and a `backward` function. The `forward` function will receive inputs, weights, and other parameters and will return both an output and a `cache` object storing data needed for the backward pass, like this:\n",
    "\n",
    "```python\n",
    "def layer_forward(x, w):\n",
    "  \"\"\" Receive inputs x and weights w \"\"\"\n",
    "  # Do some computations ...\n",
    "  z = # ... some intermediate value\n",
    "  # Do some more computations ...\n",
    "  out = # the output\n",
    "   \n",
    "  cache = (x, w, z, out) # Values we need to compute gradients\n",
    "   \n",
    "  return out, cache\n",
    "```\n",
    "\n",
    "The backward pass will receive upstream derivatives and the `cache` object, and will return gradients with respect to the inputs and weights, like this:\n",
    "\n",
    "```python\n",
    "def layer_backward(dout, cache):\n",
    "  \"\"\"\n",
    "  Receive dout (derivative of loss with respect to outputs) and cache,\n",
    "  and compute derivative with respect to inputs.\n",
    "  \"\"\"\n",
    "  # Unpack cache values\n",
    "  x, w, z, out = cache\n",
    "  \n",
    "  # Use values in cache to compute derivatives\n",
    "  dx = # Derivative of loss with respect to x\n",
    "  dw = # Derivative of loss with respect to w\n",
    "  \n",
    "  return dx, dw\n",
    "```\n",
    "\n",
    "After implementing a bunch of layers this way, we will be able to easily combine them to build classifiers with different architectures.\n",
    "\n",
    "In addition to implementing fully-connected networks of arbitrary depth, we will also explore different update rules for optimization, and introduce Dropout as a regularizer and Batch/Layer Normalization as a tool to more efficiently optimize deep networks.\n",
    "  "
   ]
  },
  {
   "cell_type": "code",
   "execution_count": 1,
   "metadata": {},
   "outputs": [
    {
     "name": "stdout",
     "output_type": "stream",
     "text": [
      "run the following from the cs231n directory and try again:\n",
      "python setup.py build_ext --inplace\n",
      "You may also need to restart your iPython kernel\n"
     ]
    }
   ],
   "source": [
    "# As usual, a bit of setup\n",
    "from __future__ import print_function\n",
    "import time\n",
    "import numpy as np\n",
    "import matplotlib.pyplot as plt\n",
    "from cs231n.classifiers.fc_net import *\n",
    "from cs231n.data_utils import get_CIFAR10_data\n",
    "from cs231n.gradient_check import eval_numerical_gradient, eval_numerical_gradient_array\n",
    "from cs231n.solver import Solver\n",
    "\n",
    "%matplotlib inline\n",
    "plt.rcParams['figure.figsize'] = (10.0, 8.0) # set default size of plots\n",
    "plt.rcParams['image.interpolation'] = 'nearest'\n",
    "plt.rcParams['image.cmap'] = 'gray'\n",
    "\n",
    "# for auto-reloading external modules\n",
    "# see http://stackoverflow.com/questions/1907993/autoreload-of-modules-in-ipython\n",
    "%load_ext autoreload\n",
    "%autoreload 2\n",
    "\n",
    "def rel_error(x, y):\n",
    "  \"\"\" returns relative error \"\"\"\n",
    "  return np.max(np.abs(x - y) / (np.maximum(1e-8, np.abs(x) + np.abs(y))))"
   ]
  },
  {
   "cell_type": "code",
   "execution_count": 2,
   "metadata": {},
   "outputs": [
    {
     "name": "stdout",
     "output_type": "stream",
     "text": [
      "('X_train: ', (49000, 3, 32, 32))\n",
      "('y_train: ', (49000,))\n",
      "('X_val: ', (1000, 3, 32, 32))\n",
      "('y_val: ', (1000,))\n",
      "('X_test: ', (1000, 3, 32, 32))\n",
      "('y_test: ', (1000,))\n"
     ]
    }
   ],
   "source": [
    "# Load the (preprocessed) CIFAR10 data.\n",
    "\n",
    "data = get_CIFAR10_data()\n",
    "for k, v in list(data.items()):\n",
    "  print(('%s: ' % k, v.shape))"
   ]
  },
  {
   "cell_type": "markdown",
   "metadata": {},
   "source": [
    "# Affine layer: foward\n",
    "Open the file `cs231n/layers.py` and implement the `affine_forward` function.\n",
    "\n",
    "Once you are done you can test your implementaion by running the following:"
   ]
  },
  {
   "cell_type": "code",
   "execution_count": 21,
   "metadata": {},
   "outputs": [
    {
     "name": "stdout",
     "output_type": "stream",
     "text": [
      "Testing affine_forward function:\n",
      "difference:  9.7698500479884e-10\n"
     ]
    }
   ],
   "source": [
    "# Test the affine_forward function\n",
    "\n",
    "num_inputs = 2\n",
    "input_shape = (4, 5, 6)\n",
    "output_dim = 3\n",
    "\n",
    "input_size = num_inputs * np.prod(input_shape)\n",
    "weight_size = output_dim * np.prod(input_shape)\n",
    "\n",
    "x = np.linspace(-0.1, 0.5, num=input_size).reshape(num_inputs, *input_shape)\n",
    "w = np.linspace(-0.2, 0.3, num=weight_size).reshape(np.prod(input_shape), output_dim)\n",
    "b = np.linspace(-0.3, 0.1, num=output_dim)\n",
    "\n",
    "out, cache = affine_forward(x, w, b)\n",
    "correct_out = np.array([[ 1.49834967,  1.70660132,  1.91485297],\n",
    "                        [ 3.25553199,  3.5141327,   3.77273342]])\n",
    "\n",
    "# Compare your output with ours. The error should be around e-9 or less.\n",
    "print('Testing affine_forward function:')\n",
    "print('difference: ', rel_error(out, correct_out))"
   ]
  },
  {
   "cell_type": "code",
   "execution_count": 16,
   "metadata": {},
   "outputs": [
    {
     "data": {
      "text/plain": [
       "(10, 2, 3)"
      ]
     },
     "execution_count": 16,
     "metadata": {},
     "output_type": "execute_result"
    }
   ],
   "source": [
    "np.reshape()"
   ]
  },
  {
   "cell_type": "markdown",
   "metadata": {},
   "source": [
    "# Affine layer: backward\n",
    "Now implement the `affine_backward` function and test your implementation using numeric gradient checking."
   ]
  },
  {
   "cell_type": "code",
   "execution_count": 22,
   "metadata": {},
   "outputs": [
    {
     "name": "stdout",
     "output_type": "stream",
     "text": [
      "Testing affine_backward function:\n",
      "dx error:  6.986348504372948e-11\n",
      "dw error:  9.904023583987626e-11\n",
      "db error:  7.736978834487815e-12\n"
     ]
    }
   ],
   "source": [
    "# Test the affine_backward function\n",
    "np.random.seed(231)\n",
    "x = np.random.randn(10, 2, 3)\n",
    "w = np.random.randn(6, 5)\n",
    "b = np.random.randn(5)\n",
    "dout = np.random.randn(10, 5)\n",
    "\n",
    "dx_num = eval_numerical_gradient_array(lambda x: affine_forward(x, w, b)[0], x, dout)\n",
    "dw_num = eval_numerical_gradient_array(lambda w: affine_forward(x, w, b)[0], w, dout)\n",
    "db_num = eval_numerical_gradient_array(lambda b: affine_forward(x, w, b)[0], b, dout)\n",
    "\n",
    "_, cache = affine_forward(x, w, b)\n",
    "dx, dw, db = affine_backward(dout, cache)\n",
    "\n",
    "# The error should be around e-10 or less\n",
    "print('Testing affine_backward function:')\n",
    "print('dx error: ', rel_error(dx_num, dx))\n",
    "print('dw error: ', rel_error(dw_num, dw))\n",
    "print('db error: ', rel_error(db_num, db))"
   ]
  },
  {
   "cell_type": "code",
   "execution_count": 29,
   "metadata": {},
   "outputs": [
    {
     "ename": "TypeError",
     "evalue": "list indices must be integers or slices, not tuple",
     "output_type": "error",
     "traceback": [
      "\u001b[0;31m---------------------------------------------------------------------------\u001b[0m",
      "\u001b[0;31mTypeError\u001b[0m                                 Traceback (most recent call last)",
      "\u001b[0;32m<ipython-input-29-89f094368efe>\u001b[0m in \u001b[0;36m<module>\u001b[0;34m()\u001b[0m\n\u001b[1;32m      1\u001b[0m a = [[1,3,-5,9,13]\n\u001b[0;32m----> 2\u001b[0;31m     [2,3,4,-3,-4]]\n\u001b[0m\u001b[1;32m      3\u001b[0m \u001b[0;34m\u001b[0m\u001b[0m\n\u001b[1;32m      4\u001b[0m \u001b[0mmax\u001b[0m\u001b[0;34m(\u001b[0m\u001b[0ma\u001b[0m\u001b[0;34m,\u001b[0m\u001b[0;36m0\u001b[0m\u001b[0;34m)\u001b[0m\u001b[0;34m\u001b[0m\u001b[0m\n",
      "\u001b[0;31mTypeError\u001b[0m: list indices must be integers or slices, not tuple"
     ]
    }
   ],
   "source": [
    "a = [[1,3,-5,9,13]\n",
    "    [2,3,4,-3,-4]]\n",
    "\n",
    "max(a,0)"
   ]
  },
  {
   "cell_type": "markdown",
   "metadata": {},
   "source": [
    "# ReLU activation: forward\n",
    "Implement the forward pass for the ReLU activation function in the `relu_forward` function and test your implementation using the following:"
   ]
  },
  {
   "cell_type": "code",
   "execution_count": 31,
   "metadata": {},
   "outputs": [
    {
     "name": "stdout",
     "output_type": "stream",
     "text": [
      "Testing relu_forward function:\n",
      "difference:  4.999999798022158e-08\n"
     ]
    }
   ],
   "source": [
    "# Test the relu_forward function\n",
    "\n",
    "x = np.linspace(-0.5, 0.5, num=12).reshape(3, 4)\n",
    "\n",
    "out, _ = relu_forward(x)\n",
    "correct_out = np.array([[ 0.,          0.,          0.,          0.,        ],\n",
    "                        [ 0.,          0.,          0.04545455,  0.13636364,],\n",
    "                        [ 0.22727273,  0.31818182,  0.40909091,  0.5,       ]])\n",
    "\n",
    "# Compare your output with ours. The error should be on the order of e-8\n",
    "print('Testing relu_forward function:')\n",
    "print('difference: ', rel_error(out, correct_out))"
   ]
  },
  {
   "cell_type": "markdown",
   "metadata": {},
   "source": [
    "# ReLU activation: backward\n",
    "Now implement the backward pass for the ReLU activation function in the `relu_backward` function and test your implementation using numeric gradient checking:"
   ]
  },
  {
   "cell_type": "code",
   "execution_count": 32,
   "metadata": {},
   "outputs": [
    {
     "name": "stdout",
     "output_type": "stream",
     "text": [
      "Testing relu_backward function:\n",
      "dx error:  3.2756349136310288e-12\n"
     ]
    }
   ],
   "source": [
    "np.random.seed(231)\n",
    "x = np.random.randn(10, 10)\n",
    "dout = np.random.randn(*x.shape)\n",
    "\n",
    "dx_num = eval_numerical_gradient_array(lambda x: relu_forward(x)[0], x, dout)\n",
    "\n",
    "_, cache = relu_forward(x)\n",
    "dx = relu_backward(dout, cache)\n",
    "\n",
    "# The error should be on the order of e-12\n",
    "print('Testing relu_backward function:')\n",
    "print('dx error: ', rel_error(dx_num, dx))"
   ]
  },
  {
   "cell_type": "markdown",
   "metadata": {},
   "source": [
    "## Inline Question 1: \n",
    "\n",
    "We've only asked you to implement ReLU, but there are a number of different activation functions that one could use in neural networks, each with its pros and cons. In particular, an issue commonly seen with activation functions is getting zero (or close to zero) gradient flow during backpropagation. Which of the following activation functions have this problem? If you consider these functions in the one dimensional case, what types of input would lead to this behaviour?\n",
    "1. Sigmoid\n",
    "2. ReLU\n",
    "3. Leaky ReLU"
   ]
  },
  {
   "cell_type": "markdown",
   "metadata": {},
   "source": [
    "## Answer:\n",
    "[FILL THIS IN]\n"
   ]
  },
  {
   "cell_type": "markdown",
   "metadata": {},
   "source": [
    "# \"Sandwich\" layers\n",
    "There are some common patterns of layers that are frequently used in neural nets. For example, affine layers are frequently followed by a ReLU nonlinearity. To make these common patterns easy, we define several convenience layers in the file `cs231n/layer_utils.py`.\n",
    "\n",
    "For now take a look at the `affine_relu_forward` and `affine_relu_backward` functions, and run the following to numerically gradient check the backward pass:"
   ]
  },
  {
   "cell_type": "code",
   "execution_count": 33,
   "metadata": {},
   "outputs": [
    {
     "name": "stdout",
     "output_type": "stream",
     "text": [
      "Testing affine_relu_forward and affine_relu_backward:\n",
      "dx error:  3.143474713685874e-11\n",
      "dw error:  1.486123845798551e-10\n",
      "db error:  7.826724021458994e-12\n"
     ]
    }
   ],
   "source": [
    "from cs231n.layer_utils import affine_relu_forward, affine_relu_backward\n",
    "np.random.seed(231)\n",
    "x = np.random.randn(2, 3, 4)\n",
    "w = np.random.randn(12, 10)\n",
    "b = np.random.randn(10)\n",
    "dout = np.random.randn(2, 10)\n",
    "\n",
    "out, cache = affine_relu_forward(x, w, b)\n",
    "dx, dw, db = affine_relu_backward(dout, cache)\n",
    "\n",
    "dx_num = eval_numerical_gradient_array(lambda x: affine_relu_forward(x, w, b)[0], x, dout)\n",
    "dw_num = eval_numerical_gradient_array(lambda w: affine_relu_forward(x, w, b)[0], w, dout)\n",
    "db_num = eval_numerical_gradient_array(lambda b: affine_relu_forward(x, w, b)[0], b, dout)\n",
    "\n",
    "# Relative error should be around e-10 or less\n",
    "print('Testing affine_relu_forward and affine_relu_backward:')\n",
    "print('dx error: ', rel_error(dx_num, dx))\n",
    "print('dw error: ', rel_error(dw_num, dw))\n",
    "print('db error: ', rel_error(db_num, db))"
   ]
  },
  {
   "cell_type": "markdown",
   "metadata": {},
   "source": [
    "# Loss layers: Softmax and SVM\n",
    "You implemented these loss functions in the last assignment, so we'll give them to you for free here. You should still make sure you understand how they work by looking at the implementations in `cs231n/layers.py`.\n",
    "\n",
    "You can make sure that the implementations are correct by running the following:"
   ]
  },
  {
   "cell_type": "code",
   "execution_count": 35,
   "metadata": {},
   "outputs": [
    {
     "name": "stdout",
     "output_type": "stream",
     "text": [
      "Testing svm_loss:\n",
      "loss:  8.999602749096233\n",
      "dx error:  1.4021566006651672e-09\n",
      "\n",
      "Testing softmax_loss:\n",
      "loss:  2.302545844500738\n",
      "dx error:  9.384673161989355e-09\n"
     ]
    }
   ],
   "source": [
    "np.random.seed(231)\n",
    "num_classes, num_inputs = 10, 50\n",
    "x = 0.001 * np.random.randn(num_inputs, num_classes)\n",
    "y = np.random.randint(num_classes, size=num_inputs)\n",
    "\n",
    "dx_num = eval_numerical_gradient(lambda x: svm_loss(x, y)[0], x, verbose=False)\n",
    "loss, dx = svm_loss(x, y)\n",
    "\n",
    "# Test svm_loss function. Loss should be around 9 and dx error should be around the order of e-9\n",
    "print('Testing svm_loss:')\n",
    "print('loss: ', loss)\n",
    "print('dx error: ', rel_error(dx_num, dx))\n",
    "\n",
    "dx_num = eval_numerical_gradient(lambda x: softmax_loss(x, y)[0], x, verbose=False)\n",
    "loss, dx = softmax_loss(x, y)\n",
    "\n",
    "# Test softmax_loss function. Loss should be close to 2.3 and dx error should be around e-8\n",
    "print('\\nTesting softmax_loss:')\n",
    "print('loss: ', loss)\n",
    "print('dx error: ', rel_error(dx_num, dx))"
   ]
  },
  {
   "cell_type": "code",
   "execution_count": 75,
   "metadata": {},
   "outputs": [
    {
     "name": "stdout",
     "output_type": "stream",
     "text": [
      "4\n",
      "3\n",
      "2\n",
      "1\n",
      "0\n"
     ]
    }
   ],
   "source": [
    "for i in range(5)[::-1]:\n",
    "    print(i)"
   ]
  },
  {
   "cell_type": "code",
   "execution_count": 81,
   "metadata": {},
   "outputs": [
    {
     "ename": "TypeError",
     "evalue": "'builtin_function_or_method' object is not iterable",
     "output_type": "error",
     "traceback": [
      "\u001b[0;31m---------------------------------------------------------------------------\u001b[0m",
      "\u001b[0;31mTypeError\u001b[0m                                 Traceback (most recent call last)",
      "\u001b[0;32m<ipython-input-81-9734f746a5b0>\u001b[0m in \u001b[0;36m<module>\u001b[0;34m()\u001b[0m\n\u001b[1;32m      2\u001b[0m \u001b[0;34m\u001b[0m\u001b[0m\n\u001b[1;32m      3\u001b[0m \u001b[0;34m\u001b[0m\u001b[0m\n\u001b[0;32m----> 4\u001b[0;31m \u001b[0;32mfor\u001b[0m \u001b[0mk\u001b[0m\u001b[0;34m,\u001b[0m\u001b[0mv\u001b[0m \u001b[0;32min\u001b[0m \u001b[0mhide\u001b[0m\u001b[0;34m.\u001b[0m\u001b[0mitems\u001b[0m\u001b[0;34m:\u001b[0m\u001b[0;34m\u001b[0m\u001b[0m\n\u001b[0m\u001b[1;32m      5\u001b[0m     \u001b[0mprint\u001b[0m\u001b[0;34m(\u001b[0m\u001b[0mk\u001b[0m\u001b[0;34m,\u001b[0m\u001b[0mv\u001b[0m\u001b[0;34m)\u001b[0m\u001b[0;34m\u001b[0m\u001b[0m\n",
      "\u001b[0;31mTypeError\u001b[0m: 'builtin_function_or_method' object is not iterable"
     ]
    }
   ],
   "source": [
    "hide ={'s':1,'w':2,'c':3,'t':4}\n",
    "\n",
    "\n",
    "for k,v in hide.items:\n",
    "    print(k,v)"
   ]
  },
  {
   "cell_type": "markdown",
   "metadata": {},
   "source": [
    "# Two-layer network\n",
    "In the previous assignment you implemented a two-layer neural network in a single monolithic class. Now that you have implemented modular versions of the necessary layers, you will reimplement the two layer network using these modular implementations.\n",
    "\n",
    "Open the file `cs231n/classifiers/fc_net.py` and complete the implementation of the `TwoLayerNet` class. This class will serve as a model for the other networks you will implement in this assignment, so read through it to make sure you understand the API. You can run the cell below to test your implementation."
   ]
  },
  {
   "cell_type": "code",
   "execution_count": 46,
   "metadata": {},
   "outputs": [
    {
     "name": "stdout",
     "output_type": "stream",
     "text": [
      "Testing initialization ... \n",
      "Testing test-time forward pass ... \n",
      "Testing training loss (no regularization)\n",
      "3.470224355595391\n",
      "Running numeric gradient check with reg =  0.0\n",
      "W1 relative error: 2.13e-08\n",
      "W2 relative error: 3.31e-10\n",
      "b1 relative error: 8.37e-09\n",
      "b2 relative error: 2.53e-10\n",
      "Running numeric gradient check with reg =  0.7\n",
      "W1 relative error: 2.53e-07\n",
      "W2 relative error: 7.98e-08\n",
      "b1 relative error: 1.56e-08\n",
      "b2 relative error: 9.09e-10\n"
     ]
    }
   ],
   "source": [
    "np.random.seed(231)\n",
    "N, D, H, C = 3, 5, 50, 7\n",
    "X = np.random.randn(N, D)\n",
    "y = np.random.randint(C, size=N)\n",
    "\n",
    "std = 1e-3\n",
    "model = TwoLayerNet(input_dim=D, hidden_dim=H, num_classes=C, weight_scale=std)\n",
    "\n",
    "print('Testing initialization ... ')\n",
    "W1_std = abs(model.params['W1'].std() - std)\n",
    "b1 = model.params['b1']\n",
    "W2_std = abs(model.params['W2'].std() - std)\n",
    "b2 = model.params['b2']\n",
    "assert W1_std < std / 10, 'First layer weights do not seem right'\n",
    "assert np.all(b1 == 0), 'First layer biases do not seem right'\n",
    "assert W2_std < std / 10, 'Second layer weights do not seem right'\n",
    "assert np.all(b2 == 0), 'Second layer biases do not seem right'\n",
    "\n",
    "print('Testing test-time forward pass ... ')\n",
    "model.params['W1'] = np.linspace(-0.7, 0.3, num=D*H).reshape(D, H)\n",
    "model.params['b1'] = np.linspace(-0.1, 0.9, num=H)\n",
    "model.params['W2'] = np.linspace(-0.3, 0.4, num=H*C).reshape(H, C)\n",
    "model.params['b2'] = np.linspace(-0.9, 0.1, num=C)\n",
    "X = np.linspace(-5.5, 4.5, num=N*D).reshape(D, N).T\n",
    "scores = model.loss(X)\n",
    "correct_scores = np.asarray(\n",
    "  [[11.53165108,  12.2917344,   13.05181771,  13.81190102,  14.57198434, 15.33206765,  16.09215096],\n",
    "   [12.05769098,  12.74614105,  13.43459113,  14.1230412,   14.81149128, 15.49994135,  16.18839143],\n",
    "   [12.58373087,  13.20054771,  13.81736455,  14.43418138,  15.05099822, 15.66781506,  16.2846319 ]])\n",
    "scores_diff = np.abs(scores - correct_scores).sum()\n",
    "assert scores_diff < 1e-6, 'Problem with test-time forward pass'\n",
    "\n",
    "print('Testing training loss (no regularization)')\n",
    "y = np.asarray([0, 5, 1])\n",
    "loss, grads = model.loss(X, y)\n",
    "correct_loss = 3.4702243556\n",
    "print(loss)\n",
    "assert abs(loss - correct_loss) < 1e-10, 'Problem with training-time loss'\n",
    "\n",
    "model.reg = 1.0\n",
    "loss, grads = model.loss(X, y)\n",
    "correct_loss = 26.5948426952\n",
    "assert abs(loss - correct_loss) < 1e-10, 'Problem with regularization loss'\n",
    "\n",
    "# Errors should be around e-7 or less\n",
    "for reg in [0.0, 0.7]:\n",
    "  print('Running numeric gradient check with reg = ', reg)\n",
    "  model.reg = reg\n",
    "  loss, grads = model.loss(X, y)\n",
    "\n",
    "  for name in sorted(grads):\n",
    "    f = lambda _: model.loss(X, y)[0]\n",
    "    grad_num = eval_numerical_gradient(f, model.params[name], verbose=False)\n",
    "    print('%s relative error: %.2e' % (name, rel_error(grad_num, grads[name])))"
   ]
  },
  {
   "cell_type": "code",
   "execution_count": 66,
   "metadata": {},
   "outputs": [],
   "source": [
    "flaten_x = np.reshape(X_train_try, (X_train_try.shape[0], -1))"
   ]
  },
  {
   "cell_type": "code",
   "execution_count": 71,
   "metadata": {},
   "outputs": [],
   "source": [
    "flat ={}\n"
   ]
  },
  {
   "cell_type": "code",
   "execution_count": null,
   "metadata": {},
   "outputs": [],
   "source": [
    "flat.update()"
   ]
  },
  {
   "cell_type": "markdown",
   "metadata": {},
   "source": [
    "# Solver\n",
    "In the previous assignment, the logic for training models was coupled to the models themselves. Following a more modular design, for this assignment we have split the logic for training models into a separate class.\n",
    "\n",
    "Open the file `cs231n/solver.py` and read through it to familiarize yourself with the API. After doing so, use a `Solver` instance to train a `TwoLayerNet` that achieves at least `50%` accuracy on the validation set."
   ]
  },
  {
   "cell_type": "code",
   "execution_count": 49,
   "metadata": {},
   "outputs": [
    {
     "name": "stdout",
     "output_type": "stream",
     "text": [
      "(Iteration 1 / 4900) loss: 2.304060\n",
      "(Epoch 0 / 10) train acc: 0.116000; val_acc: 0.094000\n",
      "(Iteration 101 / 4900) loss: 1.829613\n",
      "(Iteration 201 / 4900) loss: 1.857390\n",
      "(Iteration 301 / 4900) loss: 1.744448\n",
      "(Iteration 401 / 4900) loss: 1.420187\n",
      "(Epoch 1 / 10) train acc: 0.407000; val_acc: 0.422000\n",
      "(Iteration 501 / 4900) loss: 1.565913\n",
      "(Iteration 601 / 4900) loss: 1.700510\n",
      "(Iteration 701 / 4900) loss: 1.732213\n",
      "(Iteration 801 / 4900) loss: 1.688361\n",
      "(Iteration 901 / 4900) loss: 1.439529\n",
      "(Epoch 2 / 10) train acc: 0.497000; val_acc: 0.468000\n",
      "(Iteration 1001 / 4900) loss: 1.385772\n",
      "(Iteration 1101 / 4900) loss: 1.278401\n",
      "(Iteration 1201 / 4900) loss: 1.641580\n",
      "(Iteration 1301 / 4900) loss: 1.438847\n",
      "(Iteration 1401 / 4900) loss: 1.172536\n",
      "(Epoch 3 / 10) train acc: 0.490000; val_acc: 0.466000\n",
      "(Iteration 1501 / 4900) loss: 1.346286\n",
      "(Iteration 1601 / 4900) loss: 1.268492\n",
      "(Iteration 1701 / 4900) loss: 1.318215\n",
      "(Iteration 1801 / 4900) loss: 1.395750\n",
      "(Iteration 1901 / 4900) loss: 1.338233\n",
      "(Epoch 4 / 10) train acc: 0.532000; val_acc: 0.497000\n",
      "(Iteration 2001 / 4900) loss: 1.343165\n",
      "(Iteration 2101 / 4900) loss: 1.393173\n",
      "(Iteration 2201 / 4900) loss: 1.276734\n",
      "(Iteration 2301 / 4900) loss: 1.287951\n",
      "(Iteration 2401 / 4900) loss: 1.352778\n",
      "(Epoch 5 / 10) train acc: 0.525000; val_acc: 0.475000\n",
      "(Iteration 2501 / 4900) loss: 1.390234\n",
      "(Iteration 2601 / 4900) loss: 1.276361\n",
      "(Iteration 2701 / 4900) loss: 1.111768\n",
      "(Iteration 2801 / 4900) loss: 1.271688\n",
      "(Iteration 2901 / 4900) loss: 1.272039\n",
      "(Epoch 6 / 10) train acc: 0.546000; val_acc: 0.509000\n",
      "(Iteration 3001 / 4900) loss: 1.304489\n",
      "(Iteration 3101 / 4900) loss: 1.346667\n",
      "(Iteration 3201 / 4900) loss: 1.325510\n",
      "(Iteration 3301 / 4900) loss: 1.392728\n",
      "(Iteration 3401 / 4900) loss: 1.402001\n",
      "(Epoch 7 / 10) train acc: 0.567000; val_acc: 0.505000\n",
      "(Iteration 3501 / 4900) loss: 1.319024\n",
      "(Iteration 3601 / 4900) loss: 1.153287\n",
      "(Iteration 3701 / 4900) loss: 1.180922\n",
      "(Iteration 3801 / 4900) loss: 1.093164\n",
      "(Iteration 3901 / 4900) loss: 1.135902\n",
      "(Epoch 8 / 10) train acc: 0.568000; val_acc: 0.490000\n",
      "(Iteration 4001 / 4900) loss: 1.191735\n",
      "(Iteration 4101 / 4900) loss: 1.359396\n",
      "(Iteration 4201 / 4900) loss: 1.227283\n",
      "(Iteration 4301 / 4900) loss: 1.024113\n",
      "(Iteration 4401 / 4900) loss: 1.327583\n",
      "(Epoch 9 / 10) train acc: 0.592000; val_acc: 0.504000\n",
      "(Iteration 4501 / 4900) loss: 0.963330\n",
      "(Iteration 4601 / 4900) loss: 1.445619\n",
      "(Iteration 4701 / 4900) loss: 1.007542\n",
      "(Iteration 4801 / 4900) loss: 1.005175\n",
      "(Epoch 10 / 10) train acc: 0.611000; val_acc: 0.512000\n"
     ]
    }
   ],
   "source": [
    "model = TwoLayerNet()\n",
    "solver = None\n",
    "\n",
    "##############################################################################\n",
    "# TODO: Use a Solver instance to train a TwoLayerNet that achieves at least  #\n",
    "# 50% accuracy on the validation set.                                        #\n",
    "##############################################################################\n",
    "solver = Solver(model, data,\n",
    "                    update_rule='sgd',\n",
    "                    optim_config={\n",
    "                      'learning_rate': 1e-3,\n",
    "                    },\n",
    "                    lr_decay=0.95,\n",
    "                    num_epochs=10, batch_size=100,\n",
    "                    print_every=100)\n",
    "solver.train()\n",
    "pass\n",
    "##############################################################################\n",
    "#                             END OF YOUR CODE                               #\n",
    "##############################################################################"
   ]
  },
  {
   "cell_type": "code",
   "execution_count": 51,
   "metadata": {},
   "outputs": [
    {
     "data": {
      "image/png": "[encoded data removed]",
      "text/plain": [
       "<Figure size 1080x864 with 2 Axes>"
      ]
     },
     "metadata": {},
     "output_type": "display_data"
    }
   ],
   "source": [
    "# Run this cell to visualize training loss and train / val accuracy\n",
    "\n",
    "plt.subplot(2, 1, 1)\n",
    "plt.title('Training loss')\n",
    "plt.plot(solver.loss_history, 'o')\n",
    "plt.xlabel('Iteration')\n",
    "\n",
    "plt.subplot(2, 1, 2)\n",
    "plt.title('Accuracy')\n",
    "plt.plot(solver.train_acc_history, '-o', label='train')\n",
    "plt.plot(solver.val_acc_history, '-o', label='val')\n",
    "plt.plot([0.5] * len(solver.val_acc_history), 'k--')\n",
    "plt.xlabel('Epoch')\n",
    "plt.legend(loc='lower right')\n",
    "plt.gcf().set_size_inches(15, 12)\n",
    "plt.show()"
   ]
  },
  {
   "cell_type": "code",
   "execution_count": 58,
   "metadata": {},
   "outputs": [
    {
     "data": {
      "text/plain": [
       "3072"
      ]
     },
     "execution_count": 58,
     "metadata": {},
     "output_type": "execute_result"
    }
   ],
   "source": [
    "np.prod(data['X_train'].shape[1:])"
   ]
  },
  {
   "cell_type": "code",
   "execution_count": 61,
   "metadata": {},
   "outputs": [],
   "source": [
    "X_train_try = data['X_train']"
   ]
  },
  {
   "cell_type": "code",
   "execution_count": 64,
   "metadata": {},
   "outputs": [
    {
     "ename": "TypeError",
     "evalue": "only integer scalar arrays can be converted to a scalar index",
     "output_type": "error",
     "traceback": [
      "\u001b[0;31m---------------------------------------------------------------------------\u001b[0m",
      "\u001b[0;31mTypeError\u001b[0m                                 Traceback (most recent call last)",
      "\u001b[0;32m~/anaconda3/lib/python3.6/site-packages/numpy/core/fromnumeric.py\u001b[0m in \u001b[0;36m_wrapfunc\u001b[0;34m(obj, method, *args, **kwds)\u001b[0m\n\u001b[1;32m     51\u001b[0m     \u001b[0;32mtry\u001b[0m\u001b[0;34m:\u001b[0m\u001b[0;34m\u001b[0m\u001b[0m\n\u001b[0;32m---> 52\u001b[0;31m         \u001b[0;32mreturn\u001b[0m \u001b[0mgetattr\u001b[0m\u001b[0;34m(\u001b[0m\u001b[0mobj\u001b[0m\u001b[0;34m,\u001b[0m \u001b[0mmethod\u001b[0m\u001b[0;34m)\u001b[0m\u001b[0;34m(\u001b[0m\u001b[0;34m*\u001b[0m\u001b[0margs\u001b[0m\u001b[0;34m,\u001b[0m \u001b[0;34m**\u001b[0m\u001b[0mkwds\u001b[0m\u001b[0;34m)\u001b[0m\u001b[0;34m\u001b[0m\u001b[0m\n\u001b[0m\u001b[1;32m     53\u001b[0m \u001b[0;34m\u001b[0m\u001b[0m\n",
      "\u001b[0;31mTypeError\u001b[0m: only integer scalar arrays can be converted to a scalar index",
      "\nDuring handling of the above exception, another exception occurred:\n",
      "\u001b[0;31mTypeError\u001b[0m                                 Traceback (most recent call last)",
      "\u001b[0;32m<ipython-input-64-51ab1d22c69a>\u001b[0m in \u001b[0;36m<module>\u001b[0;34m()\u001b[0m\n\u001b[0;32m----> 1\u001b[0;31m \u001b[0mnp\u001b[0m\u001b[0;34m.\u001b[0m\u001b[0mreshape\u001b[0m\u001b[0;34m(\u001b[0m\u001b[0mX_train_try\u001b[0m\u001b[0;34m,\u001b[0m\u001b[0;34m(\u001b[0m\u001b[0mX_train_try\u001b[0m\u001b[0;34m[\u001b[0m\u001b[0;36m0\u001b[0m\u001b[0;34m]\u001b[0m\u001b[0;34m,\u001b[0m\u001b[0;34m-\u001b[0m\u001b[0;36m1\u001b[0m\u001b[0;34m)\u001b[0m\u001b[0;34m)\u001b[0m\u001b[0;34m\u001b[0m\u001b[0m\n\u001b[0m",
      "\u001b[0;32m~/anaconda3/lib/python3.6/site-packages/numpy/core/fromnumeric.py\u001b[0m in \u001b[0;36mreshape\u001b[0;34m(a, newshape, order)\u001b[0m\n\u001b[1;32m    255\u001b[0m            [5, 6]])\n\u001b[1;32m    256\u001b[0m     \"\"\"\n\u001b[0;32m--> 257\u001b[0;31m     \u001b[0;32mreturn\u001b[0m \u001b[0m_wrapfunc\u001b[0m\u001b[0;34m(\u001b[0m\u001b[0ma\u001b[0m\u001b[0;34m,\u001b[0m \u001b[0;34m'reshape'\u001b[0m\u001b[0;34m,\u001b[0m \u001b[0mnewshape\u001b[0m\u001b[0;34m,\u001b[0m \u001b[0morder\u001b[0m\u001b[0;34m=\u001b[0m\u001b[0morder\u001b[0m\u001b[0;34m)\u001b[0m\u001b[0;34m\u001b[0m\u001b[0m\n\u001b[0m\u001b[1;32m    258\u001b[0m \u001b[0;34m\u001b[0m\u001b[0m\n\u001b[1;32m    259\u001b[0m \u001b[0;34m\u001b[0m\u001b[0m\n",
      "\u001b[0;32m~/anaconda3/lib/python3.6/site-packages/numpy/core/fromnumeric.py\u001b[0m in \u001b[0;36m_wrapfunc\u001b[0;34m(obj, method, *args, **kwds)\u001b[0m\n\u001b[1;32m     60\u001b[0m     \u001b[0;31m# a downstream library like 'pandas'.\u001b[0m\u001b[0;34m\u001b[0m\u001b[0;34m\u001b[0m\u001b[0m\n\u001b[1;32m     61\u001b[0m     \u001b[0;32mexcept\u001b[0m \u001b[0;34m(\u001b[0m\u001b[0mAttributeError\u001b[0m\u001b[0;34m,\u001b[0m \u001b[0mTypeError\u001b[0m\u001b[0;34m)\u001b[0m\u001b[0;34m:\u001b[0m\u001b[0;34m\u001b[0m\u001b[0m\n\u001b[0;32m---> 62\u001b[0;31m         \u001b[0;32mreturn\u001b[0m \u001b[0m_wrapit\u001b[0m\u001b[0;34m(\u001b[0m\u001b[0mobj\u001b[0m\u001b[0;34m,\u001b[0m \u001b[0mmethod\u001b[0m\u001b[0;34m,\u001b[0m \u001b[0;34m*\u001b[0m\u001b[0margs\u001b[0m\u001b[0;34m,\u001b[0m \u001b[0;34m**\u001b[0m\u001b[0mkwds\u001b[0m\u001b[0;34m)\u001b[0m\u001b[0;34m\u001b[0m\u001b[0m\n\u001b[0m\u001b[1;32m     63\u001b[0m \u001b[0;34m\u001b[0m\u001b[0m\n\u001b[1;32m     64\u001b[0m \u001b[0;34m\u001b[0m\u001b[0m\n",
      "\u001b[0;32m~/anaconda3/lib/python3.6/site-packages/numpy/core/fromnumeric.py\u001b[0m in \u001b[0;36m_wrapit\u001b[0;34m(obj, method, *args, **kwds)\u001b[0m\n\u001b[1;32m     40\u001b[0m     \u001b[0;32mexcept\u001b[0m \u001b[0mAttributeError\u001b[0m\u001b[0;34m:\u001b[0m\u001b[0;34m\u001b[0m\u001b[0m\n\u001b[1;32m     41\u001b[0m         \u001b[0mwrap\u001b[0m \u001b[0;34m=\u001b[0m \u001b[0;32mNone\u001b[0m\u001b[0;34m\u001b[0m\u001b[0m\n\u001b[0;32m---> 42\u001b[0;31m     \u001b[0mresult\u001b[0m \u001b[0;34m=\u001b[0m \u001b[0mgetattr\u001b[0m\u001b[0;34m(\u001b[0m\u001b[0masarray\u001b[0m\u001b[0;34m(\u001b[0m\u001b[0mobj\u001b[0m\u001b[0;34m)\u001b[0m\u001b[0;34m,\u001b[0m \u001b[0mmethod\u001b[0m\u001b[0;34m)\u001b[0m\u001b[0;34m(\u001b[0m\u001b[0;34m*\u001b[0m\u001b[0margs\u001b[0m\u001b[0;34m,\u001b[0m \u001b[0;34m**\u001b[0m\u001b[0mkwds\u001b[0m\u001b[0;34m)\u001b[0m\u001b[0;34m\u001b[0m\u001b[0m\n\u001b[0m\u001b[1;32m     43\u001b[0m     \u001b[0;32mif\u001b[0m \u001b[0mwrap\u001b[0m\u001b[0;34m:\u001b[0m\u001b[0;34m\u001b[0m\u001b[0m\n\u001b[1;32m     44\u001b[0m         \u001b[0;32mif\u001b[0m \u001b[0;32mnot\u001b[0m \u001b[0misinstance\u001b[0m\u001b[0;34m(\u001b[0m\u001b[0mresult\u001b[0m\u001b[0;34m,\u001b[0m \u001b[0mmu\u001b[0m\u001b[0;34m.\u001b[0m\u001b[0mndarray\u001b[0m\u001b[0;34m)\u001b[0m\u001b[0;34m:\u001b[0m\u001b[0;34m\u001b[0m\u001b[0m\n",
      "\u001b[0;31mTypeError\u001b[0m: only integer scalar arrays can be converted to a scalar index"
     ]
    }
   ],
   "source": [
    "np.reshape(X_train_try,(X_train_try[0],-1))"
   ]
  },
  {
   "cell_type": "markdown",
   "metadata": {},
   "source": [
    "# Multilayer network\n",
    "Next you will implement a fully-connected network with an arbitrary number of hidden layers.\n",
    "\n",
    "Read through the `FullyConnectedNet` class in the file `cs231n/classifiers/fc_net.py`.\n",
    "\n",
    "Implement the initialization, the forward pass, and the backward pass. For the moment don't worry about implementing dropout or batch/layer normalization; we will add those features soon."
   ]
  },
  {
   "cell_type": "markdown",
   "metadata": {},
   "source": [
    "## Initial loss and gradient check"
   ]
  },
  {
   "cell_type": "markdown",
   "metadata": {},
   "source": [
    "As a sanity check, run the following to check the initial loss and to gradient check the network both with and without regularization. Do the initial losses seem reasonable?\n",
    "\n",
    "For gradient checking, you should expect to see errors around 1e-7 or less."
   ]
  },
  {
   "cell_type": "code",
   "execution_count": 107,
   "metadata": {},
   "outputs": [
    {
     "name": "stdout",
     "output_type": "stream",
     "text": [
      "Running check with reg =  0\n",
      "Initial loss:  2.3004790897684924\n",
      "W1 relative error: 1.48e-07\n",
      "W2 relative error: 2.21e-05\n",
      "W3 relative error: 3.53e-07\n",
      "b1 relative error: 5.38e-09\n",
      "b2 relative error: 2.09e-09\n",
      "b3 relative error: 5.80e-11\n",
      "Running check with reg =  3.14\n",
      "Initial loss:  7.052114776533016\n",
      "W1 relative error: 1.14e-08\n",
      "W2 relative error: 6.87e-08\n",
      "W3 relative error: 3.48e-08\n",
      "b1 relative error: 1.48e-08\n",
      "b2 relative error: 1.72e-09\n",
      "b3 relative error: 1.80e-10\n"
     ]
    }
   ],
   "source": [
    "np.random.seed(231)\n",
    "N, D, H1, H2, C = 2, 15, 20, 30, 10\n",
    "X = np.random.randn(N, D)\n",
    "y = np.random.randint(C, size=(N,))\n",
    "\n",
    "for reg in [0, 3.14]:\n",
    "  print('Running check with reg = ', reg)\n",
    "  model = FullyConnectedNet([H1, H2], input_dim=D, num_classes=C,\n",
    "                            reg=reg, weight_scale=5e-2, dtype=np.float64)\n",
    "\n",
    "  loss, grads = model.loss(X, y)\n",
    "  print('Initial loss: ', loss)\n",
    "  \n",
    "  # Most of the errors should be on the order of e-7 or smaller.   \n",
    "  # NOTE: It is fine however to see an error for W2 on the order of e-5\n",
    "  # for the check when reg = 0.0\n",
    "  for name in sorted(grads):\n",
    "    f = lambda _: model.loss(X, y)[0]\n",
    "    grad_num = eval_numerical_gradient(f, model.params[name], verbose=False, h=1e-5)\n",
    "    print('%s relative error: %.2e' % (name, rel_error(grad_num, grads[name])))"
   ]
  },
  {
   "cell_type": "code",
   "execution_count": 108,
   "metadata": {},
   "outputs": [
    {
     "data": {
      "text/plain": [
       "{'W1': array([[-0.04517382, -0.26438013,  0.23167755,  0.02639937, -0.02836985,\n",
       "         -0.16125809, -0.00340923, -0.05423023, -0.14190934,  0.01136654,\n",
       "         -0.21385717,  0.20925358, -0.03796373, -0.34082596,  0.08041919,\n",
       "          0.19071911,  0.2235853 ,  0.29112928,  0.04470313,  0.04723537],\n",
       "        [ 0.13977418, -0.07389934,  0.17512955, -0.14863806, -0.15758128,\n",
       "         -0.21597687,  0.22033198,  0.21813463,  0.08107057, -0.54009061,\n",
       "          0.02480221, -0.20503599, -0.1075444 , -0.26452666,  0.27239076,\n",
       "          0.01275978,  0.02842201,  0.41322008,  0.25047453, -0.16743261],\n",
       "        [ 0.06932831,  0.06188719, -0.10640779, -0.45771719,  0.03455181,\n",
       "         -0.00544166,  0.17460531,  0.02353261, -0.10344326,  0.1053031 ,\n",
       "          0.30151685,  0.08676282, -0.15436667, -0.22703051, -0.18056072,\n",
       "          0.07030639,  0.16330693,  0.03526294,  0.40815378,  0.34183507],\n",
       "        [-0.04933169,  0.17628992, -0.02223958,  0.18707907, -0.01508646,\n",
       "          0.07042288,  0.12062818, -0.26264206, -0.13077048, -0.2284143 ,\n",
       "         -0.02227827,  0.04890418, -0.10405714, -0.05887326,  0.03374664,\n",
       "         -0.05753641,  0.24112745, -0.14346146, -0.072277  , -0.27822643],\n",
       "        [ 0.21391381,  0.08495844,  0.04981412, -0.10353025, -0.23375073,\n",
       "         -0.1374897 ,  0.06699421,  0.07201781, -0.09998658,  0.30286901,\n",
       "         -0.00445382,  0.2499864 ,  0.11461941,  0.09768501, -0.00312383,\n",
       "         -0.07294851, -0.21532055,  0.22274479, -0.06220806, -0.14630662],\n",
       "        [ 0.1348997 ,  0.28742093,  0.00659015, -0.07873052,  0.04146842,\n",
       "         -0.05680235, -0.03253446,  0.06990148,  0.16634613,  0.06854167,\n",
       "         -0.12187223,  0.21241375,  0.15510081, -0.04092916,  0.04798981,\n",
       "          0.01771511, -0.04194875, -0.03975036, -0.01184525, -0.14869505],\n",
       "        [-0.01957304,  0.40359873,  0.0799869 , -0.1378712 , -0.14434538,\n",
       "          0.0716123 ,  0.02698356, -0.37076428,  0.08425975,  0.00463165,\n",
       "          0.09657709, -0.27071197, -0.05766115, -0.02213623, -0.17648367,\n",
       "          0.15191237, -0.17462402, -0.26297266, -0.20544215, -0.29957565],\n",
       "        [-0.03280754, -0.0662004 ,  0.09208163, -0.1425169 , -0.26880501,\n",
       "         -0.02126094, -0.18961514, -0.01361189, -0.28148792,  0.02077443,\n",
       "          0.04789651,  0.08321114, -0.07968618,  0.14603859, -0.2481797 ,\n",
       "         -0.08551565, -0.04710997,  0.24166176, -0.1259074 , -0.15264071],\n",
       "        [-0.04496313, -0.17852152, -0.12610251,  0.08990419, -0.13752325,\n",
       "         -0.20933424, -0.15990151, -0.05596535, -0.07071776,  0.0605175 ,\n",
       "          0.17668317,  0.1585678 , -0.0130079 ,  0.19878995, -0.01510088,\n",
       "          0.13436106,  0.00329676,  0.23551434, -0.06189806,  0.11802515],\n",
       "        [-0.00427678,  0.25452047,  0.16420925,  0.13322897, -0.00602853,\n",
       "         -0.11406711,  0.04819439,  0.12556466, -0.25653802,  0.21225681,\n",
       "          0.06101856, -0.02089846,  0.05976648,  0.01916753, -0.28907463,\n",
       "          0.19290078,  0.15818113, -0.07157086,  0.02180321, -0.03722159],\n",
       "        [ 0.19539726, -0.06433177,  0.03074987,  0.03768817,  0.08164547,\n",
       "          0.10784659, -0.05087622,  0.23182641, -0.05065621,  0.07338391,\n",
       "          0.10882597, -0.3021883 , -0.03156804,  0.1873899 ,  0.05511958,\n",
       "         -0.03522198, -0.27107243, -0.01916563,  0.11687412,  0.18983295],\n",
       "        [ 0.0211635 ,  0.03086314, -0.13144075, -0.00713259, -0.06045398,\n",
       "         -0.45477073, -0.11497943, -0.14255606,  0.06847262, -0.04149703,\n",
       "          0.38342064, -0.11881969, -0.07185263,  0.03435911,  0.38187792,\n",
       "          0.01990966, -0.07944085,  0.11820767,  0.14681568, -0.13462099],\n",
       "        [ 0.2872014 ,  0.0619932 ,  0.21890735,  0.05838244, -0.12459011,\n",
       "         -0.03137916,  0.11159681,  0.11046761, -0.0505251 ,  0.15093758,\n",
       "          0.18160123, -0.13480185,  0.04576947,  0.1615638 ,  0.00644248,\n",
       "         -0.38803895,  0.00575035,  0.20107007, -0.00784585, -0.05503148],\n",
       "        [-0.20909272,  0.11135852, -0.18102973,  0.14930019, -0.05094156,\n",
       "         -0.07822564,  0.03819644,  0.3009538 , -0.09666871,  0.04960362,\n",
       "          0.15176661,  0.17030388,  0.0334942 , -0.15421278,  0.12876078,\n",
       "         -0.00162913, -0.06847206,  0.12747723, -0.18506988, -0.03215952],\n",
       "        [ 0.13642075,  0.02646596,  0.13953648, -0.33462834, -0.29881323,\n",
       "         -0.00873444,  0.04751696,  0.07974203,  0.06017486, -0.08113955,\n",
       "          0.09044678,  0.05743174, -0.05436961,  0.28554819,  0.05865395,\n",
       "         -0.10964431, -0.01836428,  0.19057344,  0.04445836,  0.01258678]]),\n",
       " 'W2': array([[ 4.84788733e-02,  1.85622413e-01, -5.85918250e-03,\n",
       "         -1.97011172e-01,  6.37546376e-03, -2.82068389e-01,\n",
       "         -3.72187340e-04, -1.44034576e-01,  1.55989188e-02,\n",
       "          1.03655781e-01,  6.66265743e-02,  1.67018492e-01,\n",
       "         -3.02300475e-02, -1.79516906e-02, -4.02729167e-04,\n",
       "          9.32944743e-02,  1.32977041e-01, -2.51835944e-01,\n",
       "         -1.50053674e-01, -9.80828733e-02, -3.08797895e-01,\n",
       "          3.04848383e-02, -6.35355496e-02, -1.26972598e-01,\n",
       "         -1.12628692e-02,  2.92622983e-01,  1.01910013e-01,\n",
       "         -7.36725107e-02, -2.83428667e-02,  1.92002520e-02],\n",
       "        [-2.25836525e-01, -5.61907085e-02, -8.51948901e-03,\n",
       "          1.63988063e-01,  1.33148972e-01, -1.06302959e-01,\n",
       "         -1.13954334e-02,  2.41552893e-02, -9.66778480e-02,\n",
       "          3.45951283e-02, -1.27801196e-01, -1.38376931e-02,\n",
       "         -1.45255998e-01, -2.58566126e-01,  2.11620157e-01,\n",
       "          3.08978478e-01, -5.67482899e-02, -1.14301694e-02,\n",
       "         -9.61563501e-02, -9.71144899e-02,  3.53121907e-02,\n",
       "          4.28053807e-01,  9.91023346e-02, -9.36103635e-02,\n",
       "         -1.87066380e-01,  3.33991684e-03, -1.23092460e-01,\n",
       "          2.80696748e-02,  2.75077498e-01, -2.38035556e-01],\n",
       "        [-8.56787911e-02, -8.28901413e-02,  2.34751589e-01,\n",
       "         -1.75701182e-02, -1.40778992e-02,  1.59341111e-01,\n",
       "          1.18759514e-01,  1.47405231e-01, -6.01713231e-02,\n",
       "         -9.04110852e-02, -2.25291452e-01,  1.19681784e-01,\n",
       "          5.21476620e-02,  1.84234714e-02,  2.82936653e-01,\n",
       "          1.54047395e-01,  2.75709441e-02, -5.55592862e-02,\n",
       "         -2.24588471e-01,  6.83518259e-02, -3.53920660e-01,\n",
       "         -2.03611880e-01,  1.49836984e-02, -2.06100995e-01,\n",
       "         -1.65388220e-01, -4.90681118e-02, -3.16116948e-03,\n",
       "          3.33424454e-02,  2.50409566e-01,  2.85415980e-01],\n",
       "        [ 1.14791154e-02,  5.18026088e-02,  1.85854375e-01,\n",
       "          2.92071814e-01,  1.52739568e-01, -1.40224431e-01,\n",
       "          3.73158578e-02, -7.54721898e-02,  5.89693843e-02,\n",
       "          1.67352021e-02,  2.59061905e-01,  1.14276369e-01,\n",
       "         -1.61786965e-01, -3.17596892e-01,  1.42647401e-01,\n",
       "          8.61780101e-02,  2.19994186e-01, -7.94118417e-02,\n",
       "          2.46483849e-02,  1.42600351e-02, -4.18383072e-02,\n",
       "          5.25425523e-02, -9.78232090e-02,  1.56765656e-01,\n",
       "          1.27856483e-01, -4.46729771e-02,  8.05759943e-02,\n",
       "         -1.83041905e-01,  8.19031021e-02, -1.93096322e-02],\n",
       "        [ 2.35297406e-02,  1.19829406e-01, -1.32674087e-01,\n",
       "         -1.44561670e-01, -3.25658222e-02,  5.32341136e-02,\n",
       "          4.62349156e-03,  1.39313380e-01, -3.32213927e-02,\n",
       "         -8.60550911e-03, -2.26608671e-01,  2.14829914e-01,\n",
       "         -7.86903354e-02,  7.73195593e-02,  4.69820486e-02,\n",
       "         -6.10347223e-02,  6.82676208e-02, -1.43502361e-01,\n",
       "          2.13714452e-01, -1.51528942e-01,  4.65524350e-02,\n",
       "         -1.14360913e-01,  6.05002397e-03,  4.76503510e-02,\n",
       "          6.87536080e-02,  2.36115700e-01,  2.30455142e-01,\n",
       "          8.20434896e-02,  1.02487649e-02,  1.72323673e-02],\n",
       "        [-7.76296142e-03, -1.52423599e-01,  1.37352910e-01,\n",
       "          1.73217898e-01,  8.29413701e-02, -2.56785898e-01,\n",
       "         -9.37968013e-02, -7.50045534e-02,  3.73905933e-01,\n",
       "         -1.61771124e-01,  1.20503410e-01,  6.44603943e-02,\n",
       "         -9.98194745e-02, -4.48054326e-02, -3.57947671e-03,\n",
       "         -1.55020901e-01, -5.54783041e-04,  7.48013809e-02,\n",
       "          3.55781565e-01, -1.90647494e-01,  2.06499828e-01,\n",
       "          1.48146114e-01, -2.32669064e-01,  8.80224365e-02,\n",
       "          1.32999955e-01, -2.29792624e-01, -2.27505615e-01,\n",
       "         -1.08316793e-01, -7.84777567e-02, -4.23714495e-02],\n",
       "        [-1.82413850e-01,  2.46566108e-02, -7.00615999e-02,\n",
       "          3.17725350e-01, -4.65897240e-02,  1.60723582e-01,\n",
       "          1.19253612e-01, -1.80675504e-02,  1.31929457e-01,\n",
       "          2.13952763e-02, -8.45130202e-04,  3.61234241e-02,\n",
       "          2.36917009e-01,  1.42530330e-01,  3.87670326e-02,\n",
       "         -1.93089792e-02, -8.73429726e-02,  3.81533375e-02,\n",
       "         -2.28127174e-01,  1.13105260e-01, -1.81286500e-01,\n",
       "          4.08445012e-02,  5.03689099e-02, -1.22196450e-01,\n",
       "          5.29004153e-02, -1.75889958e-01,  7.41203298e-03,\n",
       "          1.53526521e-01, -1.46674838e-01,  1.33693273e-01],\n",
       "        [-3.53329948e-01, -2.24264265e-02, -6.69951996e-02,\n",
       "          1.42258670e-01,  2.14483283e-02, -2.13935309e-01,\n",
       "         -1.05698818e-01,  1.67388338e-01, -5.70473492e-02,\n",
       "         -7.46271493e-02,  8.04485749e-02,  6.35094033e-02,\n",
       "          1.19891192e-02,  1.25336874e-01, -4.37513275e-01,\n",
       "          6.26121235e-03, -2.20960843e-02,  1.51874408e-01,\n",
       "         -3.57599900e-01, -1.09685912e-01,  1.21123051e-01,\n",
       "          2.23414246e-01,  3.11174133e-02,  1.48212582e-01,\n",
       "         -8.53016158e-02, -1.28359534e-01,  1.25051383e-01,\n",
       "         -8.32019658e-02,  2.01238300e-01,  2.23093568e-02],\n",
       "        [ 1.82645924e-01,  4.29784246e-02, -8.27023875e-02,\n",
       "         -8.25441405e-02,  1.23911493e-02,  1.08016972e-01,\n",
       "          2.01232860e-01,  1.01294340e-01,  6.42229978e-02,\n",
       "          1.65554140e-01,  1.51957132e-01, -1.32091825e-01,\n",
       "          6.29440276e-02, -6.05841447e-02, -1.17701772e-01,\n",
       "         -3.76782238e-02,  4.26411204e-02,  4.31351782e-02,\n",
       "          2.69198937e-04,  2.52837979e-01, -1.78768508e-01,\n",
       "          5.37455076e-01,  5.47701165e-02,  1.38043359e-01,\n",
       "          1.32673763e-01, -1.46712466e-02, -5.33918812e-02,\n",
       "          1.96664730e-01,  1.07726215e-01,  2.62675418e-02],\n",
       "        [ 7.08054351e-02, -5.25378527e-02,  1.66212749e-01,\n",
       "          9.65026090e-02,  2.55547613e-01, -1.04304124e-01,\n",
       "         -9.67163981e-02, -4.77643520e-02,  2.81139999e-01,\n",
       "         -1.01303145e-01,  8.61875969e-02, -1.05186017e-01,\n",
       "         -2.20371587e-01, -1.86260915e-01, -1.80785710e-01,\n",
       "         -3.40736102e-03,  4.55479085e-01, -7.06090832e-02,\n",
       "          8.03987814e-02, -6.17010414e-02, -8.20606352e-02,\n",
       "         -1.17845646e-01,  2.49608060e-01, -1.64066429e-01,\n",
       "         -1.30308749e-01, -1.50515466e-01, -6.41747868e-02,\n",
       "         -7.86045086e-02,  6.92171474e-03, -1.64458252e-01],\n",
       "        [ 1.00693919e-01, -4.79143366e-02,  2.78915208e-01,\n",
       "          2.09258624e-01, -1.24588541e-02,  2.11308609e-01,\n",
       "         -2.15995517e-02, -1.63847163e-01,  7.58052014e-02,\n",
       "          1.57723630e-01, -1.45422000e-01, -1.16545647e-01,\n",
       "          9.24339102e-02, -3.70031457e-02,  2.17609755e-01,\n",
       "         -2.74366079e-01, -7.19157526e-02,  2.35114035e-01,\n",
       "          4.40349711e-02,  1.00690314e-02,  2.36628690e-01,\n",
       "         -9.56219525e-03,  2.91151980e-02, -1.65330726e-01,\n",
       "          1.01788583e-01,  1.07554525e-01, -1.91891978e-01,\n",
       "          2.45963272e-01, -2.63418142e-02, -5.93633655e-02],\n",
       "        [ 2.78014300e-02,  1.26471871e-01, -2.26697885e-01,\n",
       "         -9.22674095e-02,  1.13919163e-01, -6.81989336e-02,\n",
       "         -2.80369549e-01, -5.02391086e-02,  2.19831089e-01,\n",
       "          1.05959377e-02,  4.85400181e-02,  1.37507385e-01,\n",
       "         -8.29985502e-02,  6.57674478e-02, -1.12693658e-01,\n",
       "         -6.50848481e-02,  2.90576339e-02, -7.96467970e-02,\n",
       "         -2.24199705e-01,  2.07283333e-01, -1.98174318e-01,\n",
       "          8.25082121e-02,  2.23636074e-01, -2.54632966e-01,\n",
       "          2.26672563e-01,  8.76464299e-02,  3.70628839e-01,\n",
       "         -2.96415138e-02, -1.65789307e-03,  5.88052642e-02],\n",
       "        [ 1.06995665e-01,  1.62733847e-01,  1.42876272e-01,\n",
       "         -1.32284613e-01,  4.43577580e-01,  9.71376768e-02,\n",
       "          1.02563356e-01, -6.56965755e-02,  2.15364942e-01,\n",
       "          9.88928024e-02,  1.06717550e-02,  1.95473679e-01,\n",
       "         -1.83342025e-01,  3.01748981e-01, -4.25524479e-02,\n",
       "          1.95474251e-01,  9.33746343e-02,  1.25928841e-01,\n",
       "         -8.05289510e-02,  4.36894629e-02,  4.06751812e-02,\n",
       "         -3.42408573e-01, -1.70175551e-01,  9.48497937e-03,\n",
       "         -1.53653449e-01,  3.02538270e-01,  2.60418972e-02,\n",
       "         -3.84005920e-01,  1.91637195e-01,  2.28526783e-02],\n",
       "        [-2.12514844e-01,  4.76904306e-02, -3.19376447e-02,\n",
       "         -6.23826243e-02, -2.53964328e-01, -4.50260737e-01,\n",
       "          2.16059745e-02, -4.14156450e-02,  2.71937300e-02,\n",
       "         -1.48423611e-01, -5.69701605e-02, -3.71085543e-01,\n",
       "          2.72392143e-01, -7.16919181e-02,  9.65567624e-02,\n",
       "         -1.63930345e-01,  2.81679698e-01,  8.24087407e-02,\n",
       "         -1.23215311e-01,  1.69385357e-01,  1.61363563e-02,\n",
       "          9.76231731e-02,  1.32583281e-01,  8.90542618e-02,\n",
       "         -7.44625534e-03,  5.60170029e-01, -3.27686936e-02,\n",
       "         -9.93074003e-02,  7.40881834e-02, -3.50163089e-02],\n",
       "        [ 1.72212833e-01, -2.62823403e-01,  1.11737998e-01,\n",
       "          3.00496121e-01,  4.31971005e-02,  1.66920876e-01,\n",
       "          1.83364262e-01, -1.32356574e-01, -4.33212117e-02,\n",
       "          3.78017665e-01,  5.84320476e-02,  2.02928178e-01,\n",
       "          3.71070744e-02, -1.46749833e-01,  2.98443902e-01,\n",
       "         -2.87706294e-01,  1.39182941e-01, -1.47908996e-01,\n",
       "         -1.04498398e-01, -1.07128237e-01, -1.57856993e-02,\n",
       "          1.55857582e-01,  1.14094688e-01, -1.30613732e-02,\n",
       "         -5.71796740e-02, -1.02382051e-01, -4.40287365e-02,\n",
       "         -2.65731722e-01,  1.06585774e-02, -1.99944098e-01],\n",
       "        [ 6.77736687e-02, -4.70847041e-02,  9.58628924e-02,\n",
       "         -2.15885114e-01,  4.58941533e-02, -2.19683446e-01,\n",
       "         -1.06570459e-01,  3.12715519e-01, -1.76524509e-01,\n",
       "         -2.64733286e-01, -3.57844283e-01, -1.31180036e-01,\n",
       "          1.81153400e-02, -6.28953918e-02, -3.27553400e-02,\n",
       "          1.18635791e-01,  8.81738311e-02,  1.71266142e-02,\n",
       "          3.90020774e-02,  2.62221093e-02,  2.01928582e-03,\n",
       "          2.65776268e-02, -8.75881684e-02, -1.90721264e-01,\n",
       "          1.74115632e-01,  3.05894576e-02, -2.55967427e-02,\n",
       "         -1.28102361e-01,  5.65016320e-03, -1.29599092e-02],\n",
       "        [ 5.12351535e-02, -1.34787067e-02,  1.30075551e-01,\n",
       "          3.73997085e-02, -6.67497687e-02, -6.48022120e-02,\n",
       "          2.02185771e-02,  3.14317743e-02, -1.38200007e-01,\n",
       "          1.15246430e-01,  4.01365218e-02, -1.41391954e-02,\n",
       "         -7.59683317e-02,  4.61773088e-02,  2.00876746e-01,\n",
       "          1.52030188e-01,  5.38046527e-02, -1.30187680e-01,\n",
       "         -1.81102133e-01,  1.38587171e-01,  4.38020175e-03,\n",
       "          1.02097715e-01,  2.34058473e-01,  1.19557613e-01,\n",
       "          1.35108284e-01, -1.18369412e-01,  9.49156603e-02,\n",
       "         -2.66585755e-01,  3.42233829e-02, -1.64934143e-01],\n",
       "        [-3.08331840e-01, -1.90554059e-01,  7.49185776e-02,\n",
       "          1.39068238e-01, -2.98530156e-01,  2.27608219e-01,\n",
       "          2.79025364e-01,  2.58747768e-01, -2.54888855e-01,\n",
       "         -5.69694770e-02, -1.44474585e-01,  1.93796610e-01,\n",
       "          2.67808765e-02,  1.17502221e-01, -1.01426517e-01,\n",
       "          4.90153085e-02,  2.03012165e-01,  2.52522983e-01,\n",
       "          1.68498172e-01,  1.45265974e-01,  3.34645079e-01,\n",
       "         -1.35936337e-01, -3.98952734e-02, -1.13194162e-01,\n",
       "          4.50149724e-01, -6.32505448e-02,  1.58869507e-02,\n",
       "         -5.07175054e-02,  2.15457304e-01, -2.54431275e-01],\n",
       "        [ 1.25157347e-01,  7.69233746e-02,  1.65966597e-01,\n",
       "         -1.29686710e-01, -1.04005383e-01,  2.40464076e-01,\n",
       "         -2.46028980e-02, -2.33216977e-01,  1.66138489e-01,\n",
       "         -1.21824049e-01,  3.41073980e-01,  1.03855691e-01,\n",
       "         -2.02040572e-02, -1.72763476e-01, -3.30026440e-03,\n",
       "         -1.42898631e-01,  1.65777794e-01, -1.68510834e-01,\n",
       "          1.91350284e-01, -1.55664648e-01,  3.37224327e-02,\n",
       "         -1.81087788e-01, -5.73869509e-02,  1.70448591e-01,\n",
       "         -2.44873536e-01, -2.73406937e-01, -3.07605024e-01,\n",
       "          1.57107119e-02, -2.40389850e-02, -2.74482218e-01],\n",
       "        [ 1.74522259e-01,  5.26485340e-02,  1.65797454e-01,\n",
       "         -3.60359841e-01, -2.90593953e-01,  4.18592088e-02,\n",
       "         -2.74292799e-01,  1.79810440e-02,  4.40886070e-02,\n",
       "          5.41891896e-02,  3.71097491e-02,  4.59196327e-02,\n",
       "         -7.80107557e-02, -1.06275507e-01, -2.52781787e-01,\n",
       "          7.76599136e-02,  2.22387435e-01,  3.36764289e-02,\n",
       "          3.44751118e-01, -9.50838668e-02, -1.24267994e-01,\n",
       "         -6.38491615e-02,  8.16224563e-02, -1.12520392e-01,\n",
       "          2.24923933e-01,  7.25032976e-02, -2.51678863e-02,\n",
       "         -1.66153617e-01, -6.12979964e-02, -3.55360528e-01]]),\n",
       " 'W3': array([[ 0.02065716,  0.01392635,  0.23415566, -0.0045069 , -0.02896826,\n",
       "         -0.27898893, -0.02800904, -0.32387749, -0.1572607 , -0.06714477],\n",
       "        [ 0.02296575,  0.24685197,  0.12951506, -0.02681814,  0.05360001,\n",
       "         -0.03462284, -0.0102093 , -0.03573664,  0.07951108,  0.02551832],\n",
       "        [-0.03524364, -0.06947598,  0.12550224, -0.21382832, -0.20480996,\n",
       "         -0.01876822,  0.23803914,  0.00178393,  0.04093709,  0.28760831],\n",
       "        [ 0.0827761 , -0.12686005, -0.07654201, -0.26089775,  0.03229193,\n",
       "         -0.02714298,  0.21861369,  0.07553515,  0.00072788, -0.03406866],\n",
       "        [ 0.20565767,  0.19188594, -0.18612168, -0.11538699, -0.06268453,\n",
       "          0.08108946,  0.01779828,  0.07150604, -0.02743401,  0.10274889],\n",
       "        [ 0.00503768,  0.09885506,  0.17313923, -0.06127988,  0.14777962,\n",
       "         -0.23263192, -0.3230316 , -0.1293604 ,  0.09415013, -0.1645859 ],\n",
       "        [-0.02047817, -0.09050878,  0.19554221, -0.31253708, -0.09541876,\n",
       "          0.1099945 , -0.32849074,  0.09132226,  0.23337761,  0.19619659],\n",
       "        [ 0.03817896,  0.06682969, -0.08806658, -0.14476176,  0.0770417 ,\n",
       "         -0.38173901, -0.19863224,  0.11075436, -0.1069166 ,  0.19850677],\n",
       "        [ 0.09119172, -0.2433211 ,  0.07385327,  0.17232034,  0.07968224,\n",
       "         -0.29298614, -0.28875427,  0.20038608,  0.04250324, -0.02556187],\n",
       "        [ 0.1264941 , -0.00338147,  0.05246721, -0.20987678, -0.17082983,\n",
       "          0.15839348, -0.04441304, -0.12812466, -0.18537158,  0.341801  ],\n",
       "        [-0.00226979,  0.12062523, -0.13373337,  0.21589517, -0.10340279,\n",
       "         -0.14999081, -0.18237513, -0.08023582, -0.0461142 , -0.09703435],\n",
       "        [-0.0458388 , -0.01245488, -0.02382735, -0.07959969,  0.00527488,\n",
       "          0.10842246,  0.31070061,  0.01908568, -0.04548786,  0.01979743],\n",
       "        [-0.17329094,  0.15341691,  0.08387347,  0.07820148,  0.46681131,\n",
       "         -0.12952936, -0.08350446,  0.22930141,  0.10583602,  0.08992622],\n",
       "        [ 0.04337267, -0.00329902,  0.03130547, -0.22095312, -0.1853247 ,\n",
       "         -0.00101964,  0.34448415,  0.20377189, -0.10651139, -0.10054462],\n",
       "        [-0.07921407, -0.1110842 ,  0.01983028, -0.12018779,  0.12440288,\n",
       "         -0.31883388, -0.01169978,  0.2932288 ,  0.14473737,  0.21065219],\n",
       "        [ 0.03798064,  0.00241182,  0.1630927 ,  0.06840313, -0.08998801,\n",
       "         -0.12193157,  0.0432173 ,  0.19664769,  0.01369359,  0.12697913],\n",
       "        [ 0.09637688, -0.0165265 ,  0.16060838, -0.21033276,  0.09118633,\n",
       "          0.1215558 ,  0.35692245,  0.21137976, -0.18993218, -0.04734913],\n",
       "        [-0.00873603, -0.16937807,  0.10402729,  0.28540186,  0.05025665,\n",
       "         -0.33257806, -0.10042659, -0.34548168,  0.13114014, -0.21491119],\n",
       "        [-0.28992976,  0.10004148, -0.19947674,  0.03834378,  0.00530835,\n",
       "         -0.17649099, -0.13320012,  0.00469359,  0.02694388, -0.28820474],\n",
       "        [-0.04746356, -0.20529857, -0.05576663, -0.19845433, -0.08519613,\n",
       "          0.16364225,  0.25251604,  0.03787766, -0.17728887,  0.00571965],\n",
       "        [ 0.30474447,  0.08630948, -0.02822985, -0.20108411, -0.10467173,\n",
       "         -0.05320591,  0.08951183,  0.07399758, -0.02228803,  0.05641657],\n",
       "        [-0.0845652 , -0.24256608, -0.16367655,  0.05506162,  0.00405811,\n",
       "          0.04530488,  0.13294135,  0.24161424,  0.02007253,  0.22455153],\n",
       "        [-0.11331652, -0.02790194, -0.09094322,  0.01077992,  0.22726082,\n",
       "          0.01937636,  0.0241483 ,  0.09723347,  0.04409686,  0.05623573],\n",
       "        [ 0.05909776,  0.01539287, -0.03485425, -0.10596267,  0.1320025 ,\n",
       "         -0.10707252, -0.00365214, -0.06598737, -0.10246215,  0.10199496],\n",
       "        [-0.11792124,  0.11447127,  0.06105278,  0.07152053,  0.19377795,\n",
       "          0.03846263,  0.25651882, -0.09810879,  0.13174082,  0.23283772],\n",
       "        [-0.10956469, -0.04516146, -0.00444607,  0.05875086,  0.01004459,\n",
       "         -0.09380987, -0.18666439,  0.11288444,  0.08339125, -0.22843401],\n",
       "        [-0.5088055 ,  0.10904422, -0.18499952,  0.25249388, -0.06938143,\n",
       "         -0.08996012, -0.17109773,  0.0245045 , -0.01644426, -0.06385318],\n",
       "        [-0.10239077,  0.38201577,  0.04380824,  0.03477927,  0.06257292,\n",
       "         -0.14063347, -0.27856713,  0.16813855,  0.02020107, -0.21208542],\n",
       "        [-0.05899298, -0.10668378, -0.14825204, -0.00442571, -0.10066277,\n",
       "          0.21438044,  0.02086752, -0.08939156, -0.04436379,  0.16854051],\n",
       "        [-0.13876405, -0.07430362,  0.09149205, -0.2304088 ,  0.10933578,\n",
       "         -0.01436853,  0.07168497,  0.00264934,  0.11508764, -0.17789737]])}"
      ]
     },
     "execution_count": 108,
     "metadata": {},
     "output_type": "execute_result"
    }
   ],
   "source": [
    "list_dw"
   ]
  },
  {
   "cell_type": "markdown",
   "metadata": {},
   "source": [
    "As another sanity check, make sure you can overfit a small dataset of 50 images. First we will try a three-layer network with 100 units in each hidden layer. In the following cell, tweak the learning rate and initialization scale to overfit and achieve 100% training accuracy within 20 epochs."
   ]
  },
  {
   "cell_type": "code",
   "execution_count": 175,
   "metadata": {
    "scrolled": false
   },
   "outputs": [
    {
     "name": "stdout",
     "output_type": "stream",
     "text": [
      "(Iteration 1 / 40) loss: 2.293297\n",
      "(Epoch 0 / 20) train acc: 0.300000; val_acc: 0.139000\n",
      "(Epoch 1 / 20) train acc: 0.380000; val_acc: 0.159000\n",
      "(Epoch 2 / 20) train acc: 0.380000; val_acc: 0.173000\n",
      "(Epoch 3 / 20) train acc: 0.480000; val_acc: 0.159000\n",
      "(Epoch 4 / 20) train acc: 0.540000; val_acc: 0.163000\n",
      "(Epoch 5 / 20) train acc: 0.780000; val_acc: 0.181000\n",
      "(Iteration 11 / 40) loss: 1.218584\n",
      "(Epoch 6 / 20) train acc: 0.680000; val_acc: 0.171000\n",
      "(Epoch 7 / 20) train acc: 0.820000; val_acc: 0.177000\n",
      "(Epoch 8 / 20) train acc: 0.800000; val_acc: 0.186000\n",
      "(Epoch 9 / 20) train acc: 0.920000; val_acc: 0.175000\n",
      "(Epoch 10 / 20) train acc: 0.760000; val_acc: 0.143000\n",
      "(Iteration 21 / 40) loss: 0.729041\n",
      "(Epoch 11 / 20) train acc: 0.840000; val_acc: 0.171000\n",
      "(Epoch 12 / 20) train acc: 0.880000; val_acc: 0.182000\n",
      "(Epoch 13 / 20) train acc: 0.940000; val_acc: 0.178000\n",
      "(Epoch 14 / 20) train acc: 0.980000; val_acc: 0.168000\n",
      "(Epoch 15 / 20) train acc: 0.960000; val_acc: 0.182000\n",
      "(Iteration 31 / 40) loss: 0.208045\n",
      "(Epoch 16 / 20) train acc: 1.000000; val_acc: 0.173000\n",
      "(Epoch 17 / 20) train acc: 0.980000; val_acc: 0.181000\n",
      "(Epoch 18 / 20) train acc: 1.000000; val_acc: 0.180000\n",
      "(Epoch 19 / 20) train acc: 1.000000; val_acc: 0.182000\n",
      "(Epoch 20 / 20) train acc: 1.000000; val_acc: 0.185000\n"
     ]
    },
    {
     "data": {
      "image/png": "[encoded data removed]",
      "text/plain": [
       "<Figure size 432x288 with 1 Axes>"
      ]
     },
     "metadata": {},
     "output_type": "display_data"
    }
   ],
   "source": [
    "# TODO: Use a three-layer Net to overfit 50 training examples by \n",
    "# tweaking just the learning rate and initialization scale.\n",
    "\n",
    "num_train = 50\n",
    "small_data = {\n",
    "  'X_train': data['X_train'][:num_train],\n",
    "  'y_train': data['y_train'][:num_train],\n",
    "  'X_val': data['X_val'],\n",
    "  'y_val': data['y_val'],\n",
    "}\n",
    "\n",
    "weight_scale = 1e-2\n",
    "learning_rate = 1e-2\n",
    "model = FullyConnectedNet([100, 100],\n",
    "              weight_scale=weight_scale, dtype=np.float64)\n",
    "solver = Solver(model, small_data,\n",
    "                print_every=10, num_epochs=20, batch_size=25,\n",
    "                update_rule='sgd',\n",
    "                optim_config={\n",
    "                  'learning_rate': learning_rate,\n",
    "                }\n",
    "         )\n",
    "solver.train()\n",
    "\n",
    "plt.plot(solver.loss_history, 'o')\n",
    "plt.title('Training loss history')\n",
    "plt.xlabel('Iteration')\n",
    "plt.ylabel('Training loss')\n",
    "plt.show()"
   ]
  },
  {
   "cell_type": "code",
   "execution_count": 176,
   "metadata": {},
   "outputs": [
    {
     "data": {
      "text/plain": [
       "(50, 3, 32, 32)"
      ]
     },
     "execution_count": 176,
     "metadata": {},
     "output_type": "execute_result"
    }
   ],
   "source": [
    "small_data['X_train'].shape"
   ]
  },
  {
   "cell_type": "markdown",
   "metadata": {},
   "source": [
    "Now try to use a five-layer network with 100 units on each layer to overfit 50 training examples. Again you will have to adjust the learning rate and weight initialization, but you should be able to achieve 100% training accuracy within 20 epochs."
   ]
  },
  {
   "cell_type": "code",
   "execution_count": 187,
   "metadata": {},
   "outputs": [
    {
     "name": "stdout",
     "output_type": "stream",
     "text": [
      "(Iteration 1 / 40) loss: 2.675840\n",
      "(Epoch 0 / 20) train acc: 0.160000; val_acc: 0.119000\n",
      "(Epoch 1 / 20) train acc: 0.240000; val_acc: 0.081000\n",
      "(Epoch 2 / 20) train acc: 0.460000; val_acc: 0.143000\n",
      "(Epoch 3 / 20) train acc: 0.580000; val_acc: 0.174000\n",
      "(Epoch 4 / 20) train acc: 0.500000; val_acc: 0.152000\n",
      "(Epoch 5 / 20) train acc: 0.620000; val_acc: 0.155000\n",
      "(Iteration 11 / 40) loss: 1.313541\n",
      "(Epoch 6 / 20) train acc: 0.640000; val_acc: 0.142000\n",
      "(Epoch 7 / 20) train acc: 0.880000; val_acc: 0.159000\n",
      "(Epoch 8 / 20) train acc: 0.940000; val_acc: 0.184000\n",
      "(Epoch 9 / 20) train acc: 0.980000; val_acc: 0.176000\n",
      "(Epoch 10 / 20) train acc: 0.960000; val_acc: 0.191000\n",
      "(Iteration 21 / 40) loss: 0.206622\n",
      "(Epoch 11 / 20) train acc: 1.000000; val_acc: 0.194000\n",
      "(Epoch 12 / 20) train acc: 1.000000; val_acc: 0.184000\n",
      "(Epoch 13 / 20) train acc: 1.000000; val_acc: 0.179000\n",
      "(Epoch 14 / 20) train acc: 1.000000; val_acc: 0.180000\n",
      "(Epoch 15 / 20) train acc: 1.000000; val_acc: 0.184000\n",
      "(Iteration 31 / 40) loss: 0.019413\n",
      "(Epoch 16 / 20) train acc: 1.000000; val_acc: 0.179000\n",
      "(Epoch 17 / 20) train acc: 1.000000; val_acc: 0.187000\n",
      "(Epoch 18 / 20) train acc: 1.000000; val_acc: 0.182000\n",
      "(Epoch 19 / 20) train acc: 1.000000; val_acc: 0.183000\n",
      "(Epoch 20 / 20) train acc: 1.000000; val_acc: 0.182000\n"
     ]
    },
    {
     "data": {
      "image/png": "[encoded data removed]",
      "text/plain": [
       "<Figure size 432x288 with 1 Axes>"
      ]
     },
     "metadata": {},
     "output_type": "display_data"
    }
   ],
   "source": [
    "# TODO: Use a five-layer Net to overfit 50 training examples by \n",
    "# tweaking just the learning rate and initialization scale.\n",
    "\n",
    "num_train = 50\n",
    "small_data = {\n",
    "  'X_train': data['X_train'][:num_train],\n",
    "  'y_train': data['y_train'][:num_train],\n",
    "  'X_val': data['X_val'],\n",
    "  'y_val': data['y_val'],\n",
    "}\n",
    "\n",
    "\n",
    "\n",
    "\n",
    "learning_rate =3e-2\n",
    "weight_scale = 2.0/50\n",
    "model = FullyConnectedNet([100, 100, 100, 100],\n",
    "                weight_scale=weight_scale, dtype=np.float64)\n",
    "solver = Solver(model, small_data,\n",
    "                print_every=10, num_epochs=20, batch_size=25,\n",
    "                update_rule='sgd',\n",
    "                optim_config={\n",
    "                  'learning_rate': learning_rate,\n",
    "                }\n",
    "         )\n",
    "solver.train()\n",
    "\n",
    "plt.plot(solver.loss_history, 'o')\n",
    "plt.title('Training loss history')\n",
    "plt.xlabel('Iteration')\n",
    "plt.ylabel('Training loss')\n",
    "plt.show()"
   ]
  },
  {
   "cell_type": "code",
   "execution_count": 146,
   "metadata": {},
   "outputs": [
    {
     "data": {
      "text/plain": [
       "100000.0"
      ]
     },
     "execution_count": 146,
     "metadata": {},
     "output_type": "execute_result"
    }
   ],
   "source": [
    "1e+5"
   ]
  },
  {
   "cell_type": "markdown",
   "metadata": {},
   "source": [
    "## Inline Question 2: \n",
    "Did you notice anything about the comparative difficulty of training the three-layer net vs training the five layer net? In particular, based on your experience, which network seemed more sensitive to the initialization scale? Why do you think that is the case?"
   ]
  },
  {
   "cell_type": "markdown",
   "metadata": {},
   "source": [
    "## Answer:\n",
    "[FILL THIS IN]\n"
   ]
  },
  {
   "cell_type": "markdown",
   "metadata": {},
   "source": [
    "# Update rules\n",
    "So far we have used vanilla stochastic gradient descent (SGD) as our update rule. More sophisticated update rules can make it easier to train deep networks. We will implement a few of the most commonly used update rules and compare them to vanilla SGD."
   ]
  },
  {
   "cell_type": "markdown",
   "metadata": {},
   "source": [
    "# SGD+Momentum\n",
    "Stochastic gradient descent with momentum is a widely used update rule that tends to make deep networks converge faster than vanilla stochastic gradient descent. See the Momentum Update section at http://cs231n.github.io/neural-networks-3/#sgd for more information.\n",
    "\n",
    "Open the file `cs231n/optim.py` and read the documentation at the top of the file to make sure you understand the API. Implement the SGD+momentum update rule in the function `sgd_momentum` and run the following to check your implementation. You should see errors less than e-8."
   ]
  },
  {
   "cell_type": "code",
   "execution_count": 204,
   "metadata": {},
   "outputs": [
    {
     "name": "stdout",
     "output_type": "stream",
     "text": [
      "next_w error:  8.882347033505819e-09\n",
      "velocity error:  4.269287743278663e-09\n"
     ]
    }
   ],
   "source": [
    "from cs231n.optim import sgd_momentum\n",
    "\n",
    "N, D = 4, 5\n",
    "w = np.linspace(-0.4, 0.6, num=N*D).reshape(N, D)\n",
    "dw = np.linspace(-0.6, 0.4, num=N*D).reshape(N, D)\n",
    "v = np.linspace(0.6, 0.9, num=N*D).reshape(N, D)\n",
    "\n",
    "config = {'learning_rate': 1e-3, 'velocity': v}\n",
    "next_w, config = sgd_momentum(w, dw, config=config)\n",
    "\n",
    "expected_next_w = np.asarray([\n",
    "  [ 0.1406,      0.20738947,  0.27417895,  0.34096842,  0.40775789],\n",
    "  [ 0.47454737,  0.54133684,  0.60812632,  0.67491579,  0.74170526],\n",
    "  [ 0.80849474,  0.87528421,  0.94207368,  1.00886316,  1.07565263],\n",
    "  [ 1.14244211,  1.20923158,  1.27602105,  1.34281053,  1.4096    ]])\n",
    "expected_velocity = np.asarray([\n",
    "  [ 0.5406,      0.55475789,  0.56891579, 0.58307368,  0.59723158],\n",
    "  [ 0.61138947,  0.62554737,  0.63970526,  0.65386316,  0.66802105],\n",
    "  [ 0.68217895,  0.69633684,  0.71049474,  0.72465263,  0.73881053],\n",
    "  [ 0.75296842,  0.76712632,  0.78128421,  0.79544211,  0.8096    ]])\n",
    "\n",
    "# Should see relative errors around e-8 or less\n",
    "print('next_w error: ', rel_error(next_w, expected_next_w))\n",
    "print('velocity error: ', rel_error(expected_velocity, config['velocity']))"
   ]
  },
  {
   "cell_type": "code",
   "execution_count": 202,
   "metadata": {},
   "outputs": [
    {
     "data": {
      "text/plain": [
       "{'learning_rate': 0.001,\n",
       " 'momentum': 0.9,\n",
       " 'velocity': array([[0.5406    , 0.55475789, 0.56891579, 0.58307368, 0.59723158],\n",
       "        [0.61138947, 0.62554737, 0.63970526, 0.65386316, 0.66802105],\n",
       "        [0.68217895, 0.69633684, 0.71049474, 0.72465263, 0.73881053],\n",
       "        [0.75296842, 0.76712632, 0.78128421, 0.79544211, 0.8096    ]])}"
      ]
     },
     "execution_count": 202,
     "metadata": {},
     "output_type": "execute_result"
    }
   ],
   "source": [
    "config"
   ]
  },
  {
   "cell_type": "markdown",
   "metadata": {},
   "source": [
    "Once you have done so, run the following to train a six-layer network with both SGD and SGD+momentum. You should see the SGD+momentum update rule converge faster."
   ]
  },
  {
   "cell_type": "code",
   "execution_count": 205,
   "metadata": {
    "scrolled": false
   },
   "outputs": [
    {
     "name": "stdout",
     "output_type": "stream",
     "text": [
      "running with  sgd\n",
      "(Iteration 1 / 200) loss: 2.788162\n",
      "(Epoch 0 / 5) train acc: 0.125000; val_acc: 0.136000\n",
      "(Iteration 11 / 200) loss: 2.276876\n",
      "(Iteration 21 / 200) loss: 2.135934\n",
      "(Iteration 31 / 200) loss: 2.124965\n",
      "(Epoch 1 / 5) train acc: 0.271000; val_acc: 0.243000\n",
      "(Iteration 41 / 200) loss: 1.937251\n",
      "(Iteration 51 / 200) loss: 1.945584\n",
      "(Iteration 61 / 200) loss: 1.885230\n",
      "(Iteration 71 / 200) loss: 1.820321\n",
      "(Epoch 2 / 5) train acc: 0.332000; val_acc: 0.295000\n",
      "(Iteration 81 / 200) loss: 1.820512\n",
      "(Iteration 91 / 200) loss: 1.843859\n",
      "(Iteration 101 / 200) loss: 1.844082\n",
      "(Iteration 111 / 200) loss: 1.831008\n",
      "(Epoch 3 / 5) train acc: 0.370000; val_acc: 0.323000\n",
      "(Iteration 121 / 200) loss: 1.736528\n",
      "(Iteration 131 / 200) loss: 1.663604\n",
      "(Iteration 141 / 200) loss: 1.748585\n",
      "(Iteration 151 / 200) loss: 1.610283\n",
      "(Epoch 4 / 5) train acc: 0.400000; val_acc: 0.316000\n",
      "(Iteration 161 / 200) loss: 1.692325\n",
      "(Iteration 171 / 200) loss: 1.533297\n",
      "(Iteration 181 / 200) loss: 1.692369\n",
      "(Iteration 191 / 200) loss: 1.735590\n",
      "(Epoch 5 / 5) train acc: 0.398000; val_acc: 0.333000\n",
      "\n",
      "running with  sgd_momentum\n",
      "(Iteration 1 / 200) loss: 2.845060\n",
      "(Epoch 0 / 5) train acc: 0.117000; val_acc: 0.086000\n",
      "(Iteration 11 / 200) loss: 2.159274\n",
      "(Iteration 21 / 200) loss: 2.011707\n",
      "(Iteration 31 / 200) loss: 1.909994\n",
      "(Epoch 1 / 5) train acc: 0.305000; val_acc: 0.302000\n",
      "(Iteration 41 / 200) loss: 1.954992\n",
      "(Iteration 51 / 200) loss: 1.678766\n",
      "(Iteration 61 / 200) loss: 1.855802\n",
      "(Iteration 71 / 200) loss: 1.684125\n",
      "(Epoch 2 / 5) train acc: 0.363000; val_acc: 0.319000\n",
      "(Iteration 81 / 200) loss: 1.895960\n",
      "(Iteration 91 / 200) loss: 1.607159\n",
      "(Iteration 101 / 200) loss: 1.487806\n",
      "(Iteration 111 / 200) loss: 1.880375\n",
      "(Epoch 3 / 5) train acc: 0.458000; val_acc: 0.351000\n",
      "(Iteration 121 / 200) loss: 1.487283\n",
      "(Iteration 131 / 200) loss: 1.463555\n",
      "(Iteration 141 / 200) loss: 1.409238\n",
      "(Iteration 151 / 200) loss: 1.437528\n",
      "(Epoch 4 / 5) train acc: 0.484000; val_acc: 0.356000\n",
      "(Iteration 161 / 200) loss: 1.496667\n",
      "(Iteration 171 / 200) loss: 1.382884\n",
      "(Iteration 181 / 200) loss: 1.397560\n",
      "(Iteration 191 / 200) loss: 1.286977\n",
      "(Epoch 5 / 5) train acc: 0.511000; val_acc: 0.327000\n",
      "\n"
     ]
    },
    {
     "name": "stderr",
     "output_type": "stream",
     "text": [
      "/Users/richard/anaconda3/lib/python3.6/site-packages/matplotlib/cbook/deprecation.py:107: MatplotlibDeprecationWarning: Adding an axes using the same arguments as a previous axes currently reuses the earlier instance.  In a future version, a new instance will always be created and returned.  Meanwhile, this warning can be suppressed, and the future behavior ensured, by passing a unique label to each axes instance.\n",
      "  warnings.warn(message, mplDeprecation, stacklevel=1)\n"
     ]
    },
    {
     "data": {
      "image/png": "[encoded data removed]",
      "text/plain": [
       "<Figure size 1080x1080 with 3 Axes>"
      ]
     },
     "metadata": {},
     "output_type": "display_data"
    }
   ],
   "source": [
    "num_train = 4000\n",
    "small_data = {\n",
    "  'X_train': data['X_train'][:num_train],\n",
    "  'y_train': data['y_train'][:num_train],\n",
    "  'X_val': data['X_val'],\n",
    "  'y_val': data['y_val'],\n",
    "}\n",
    "\n",
    "solvers = {}\n",
    "\n",
    "for update_rule in ['sgd', 'sgd_momentum']:\n",
    "  print('running with ', update_rule)\n",
    "  model = FullyConnectedNet([100, 100, 100, 100, 100], weight_scale=5e-2)\n",
    "\n",
    "  solver = Solver(model, small_data,\n",
    "                  num_epochs=5, batch_size=100,\n",
    "                  update_rule=update_rule,\n",
    "                  optim_config={\n",
    "                    'learning_rate': 1e-2,\n",
    "                  },\n",
    "                  verbose=True)\n",
    "  solvers[update_rule] = solver\n",
    "  solver.train()\n",
    "  print()\n",
    "\n",
    "plt.subplot(3, 1, 1)\n",
    "plt.title('Training loss')\n",
    "plt.xlabel('Iteration')\n",
    "\n",
    "plt.subplot(3, 1, 2)\n",
    "plt.title('Training accuracy')\n",
    "plt.xlabel('Epoch')\n",
    "\n",
    "plt.subplot(3, 1, 3)\n",
    "plt.title('Validation accuracy')\n",
    "plt.xlabel('Epoch')\n",
    "\n",
    "for update_rule, solver in list(solvers.items()):\n",
    "  plt.subplot(3, 1, 1)\n",
    "  plt.plot(solver.loss_history, 'o', label=update_rule)\n",
    "  \n",
    "  plt.subplot(3, 1, 2)\n",
    "  plt.plot(solver.train_acc_history, '-o', label=update_rule)\n",
    "\n",
    "  plt.subplot(3, 1, 3)\n",
    "  plt.plot(solver.val_acc_history, '-o', label=update_rule)\n",
    "  \n",
    "for i in [1, 2, 3]:\n",
    "  plt.subplot(3, 1, i)\n",
    "  plt.legend(loc='upper center', ncol=4)\n",
    "plt.gcf().set_size_inches(15, 15)\n",
    "plt.show()"
   ]
  },
  {
   "cell_type": "markdown",
   "metadata": {},
   "source": [
    "# RMSProp and Adam\n",
    "RMSProp [1] and Adam [2] are update rules that set per-parameter learning rates by using a running average of the second moments of gradients.\n",
    "\n",
    "In the file `cs231n/optim.py`, implement the RMSProp update rule in the `rmsprop` function and implement the Adam update rule in the `adam` function, and check your implementations using the tests below.\n",
    "\n",
    "**NOTE:** Please implement the _complete_ Adam update rule (with the bias correction mechanism), not the first simplified version mentioned in the course notes. \n",
    "\n",
    "[1] Tijmen Tieleman and Geoffrey Hinton. \"Lecture 6.5-rmsprop: Divide the gradient by a running average of its recent magnitude.\" COURSERA: Neural Networks for Machine Learning 4 (2012).\n",
    "\n",
    "[2] Diederik Kingma and Jimmy Ba, \"Adam: A Method for Stochastic Optimization\", ICLR 2015."
   ]
  },
  {
   "cell_type": "code",
   "execution_count": 209,
   "metadata": {},
   "outputs": [
    {
     "name": "stdout",
     "output_type": "stream",
     "text": [
      "next_w error:  9.524687511038133e-08\n",
      "cache error:  2.6477955807156126e-09\n"
     ]
    }
   ],
   "source": [
    "# Test RMSProp implementation\n",
    "from cs231n.optim import rmsprop\n",
    "\n",
    "N, D = 4, 5\n",
    "w = np.linspace(-0.4, 0.6, num=N*D).reshape(N, D)\n",
    "dw = np.linspace(-0.6, 0.4, num=N*D).reshape(N, D)\n",
    "cache = np.linspace(0.6, 0.9, num=N*D).reshape(N, D)\n",
    "\n",
    "config = {'learning_rate': 1e-2, 'cache': cache}\n",
    "next_w, _ = rmsprop(w, dw, config=config)\n",
    "\n",
    "expected_next_w = np.asarray([\n",
    "  [-0.39223849, -0.34037513, -0.28849239, -0.23659121, -0.18467247],\n",
    "  [-0.132737,   -0.08078555, -0.02881884,  0.02316247,  0.07515774],\n",
    "  [ 0.12716641,  0.17918792,  0.23122175,  0.28326742,  0.33532447],\n",
    "  [ 0.38739248,  0.43947102,  0.49155973,  0.54365823,  0.59576619]])\n",
    "expected_cache = np.asarray([\n",
    "  [ 0.5976,      0.6126277,   0.6277108,   0.64284931,  0.65804321],\n",
    "  [ 0.67329252,  0.68859723,  0.70395734,  0.71937285,  0.73484377],\n",
    "  [ 0.75037008,  0.7659518,   0.78158892,  0.79728144,  0.81302936],\n",
    "  [ 0.82883269,  0.84469141,  0.86060554,  0.87657507,  0.8926    ]])\n",
    "\n",
    "# You should see relative errors around e-7 or less\n",
    "print('next_w error: ', rel_error(expected_next_w, next_w))\n",
    "print('cache error: ', rel_error(expected_cache, config['cache']))"
   ]
  },
  {
   "cell_type": "code",
   "execution_count": 224,
   "metadata": {},
   "outputs": [
    {
     "name": "stdout",
     "output_type": "stream",
     "text": [
      "next_w error:  1.1395691798535431e-07\n",
      "v error:  4.208314038113071e-09\n",
      "m error:  4.214963193114416e-09\n"
     ]
    }
   ],
   "source": [
    "# Test Adam implementation\n",
    "from cs231n.optim import adam\n",
    "\n",
    "N, D = 4, 5\n",
    "w = np.linspace(-0.4, 0.6, num=N*D).reshape(N, D)\n",
    "dw = np.linspace(-0.6, 0.4, num=N*D).reshape(N, D)\n",
    "m = np.linspace(0.6, 0.9, num=N*D).reshape(N, D)\n",
    "v = np.linspace(0.7, 0.5, num=N*D).reshape(N, D)\n",
    "\n",
    "config = {'learning_rate': 1e-2, 'm': m, 'v': v, 't': 5}\n",
    "next_w, _ = adam(w, dw, config=config)\n",
    "\n",
    "expected_next_w = np.asarray([\n",
    "  [-0.40094747, -0.34836187, -0.29577703, -0.24319299, -0.19060977],\n",
    "  [-0.1380274,  -0.08544591, -0.03286534,  0.01971428,  0.0722929],\n",
    "  [ 0.1248705,   0.17744702,  0.23002243,  0.28259667,  0.33516969],\n",
    "  [ 0.38774145,  0.44031188,  0.49288093,  0.54544852,  0.59801459]])\n",
    "expected_v = np.asarray([\n",
    "  [ 0.69966,     0.68908382,  0.67851319,  0.66794809,  0.65738853,],\n",
    "  [ 0.64683452,  0.63628604,  0.6257431,   0.61520571,  0.60467385,],\n",
    "  [ 0.59414753,  0.58362676,  0.57311152,  0.56260183,  0.55209767,],\n",
    "  [ 0.54159906,  0.53110598,  0.52061845,  0.51013645,  0.49966,   ]])\n",
    "expected_m = np.asarray([\n",
    "  [ 0.48,        0.49947368,  0.51894737,  0.53842105,  0.55789474],\n",
    "  [ 0.57736842,  0.59684211,  0.61631579,  0.63578947,  0.65526316],\n",
    "  [ 0.67473684,  0.69421053,  0.71368421,  0.73315789,  0.75263158],\n",
    "  [ 0.77210526,  0.79157895,  0.81105263,  0.83052632,  0.85      ]])\n",
    "\n",
    "# You should see relative errors around e-7 or less\n",
    "print('next_w error: ', rel_error(expected_next_w, next_w))\n",
    "print('v error: ', rel_error(expected_v, config['v']))\n",
    "print('m error: ', rel_error(expected_m, config['m']))"
   ]
  },
  {
   "cell_type": "code",
   "execution_count": 219,
   "metadata": {},
   "outputs": [
    {
     "data": {
      "text/plain": [
       "array([[-0.40098988, -0.34840634, -0.29582359, -0.24324168, -0.19066062],\n",
       "       [-0.13808045, -0.08550121, -0.03292292,  0.01965437,  0.07223062],\n",
       "       [ 0.1248058 ,  0.17737986,  0.22995275,  0.28252443,  0.33509483],\n",
       "       [ 0.38766391,  0.44023161,  0.49279785,  0.54536258,  0.59792572]])"
      ]
     },
     "execution_count": 219,
     "metadata": {},
     "output_type": "execute_result"
    }
   ],
   "source": [
    "next_w"
   ]
  },
  {
   "cell_type": "markdown",
   "metadata": {},
   "source": [
    "Once you have debugged your RMSProp and Adam implementations, run the following to train a pair of deep networks using these new update rules:"
   ]
  },
  {
   "cell_type": "code",
   "execution_count": 229,
   "metadata": {},
   "outputs": [
    {
     "name": "stdout",
     "output_type": "stream",
     "text": [
      "running with  adam\n",
      "(Iteration 1 / 200) loss: 2.519992\n",
      "(Epoch 0 / 5) train acc: 0.133000; val_acc: 0.142000\n",
      "(Iteration 11 / 200) loss: 2.195839\n",
      "(Iteration 21 / 200) loss: 1.900202\n",
      "(Iteration 31 / 200) loss: 1.847772\n",
      "(Epoch 1 / 5) train acc: 0.356000; val_acc: 0.309000\n",
      "(Iteration 41 / 200) loss: 1.763732\n",
      "(Iteration 51 / 200) loss: 1.671772\n",
      "(Iteration 61 / 200) loss: 1.680669\n",
      "(Iteration 71 / 200) loss: 1.637074\n",
      "(Epoch 2 / 5) train acc: 0.442000; val_acc: 0.359000\n",
      "(Iteration 81 / 200) loss: 1.492738\n",
      "(Iteration 91 / 200) loss: 1.360315\n",
      "(Iteration 101 / 200) loss: 1.654435\n",
      "(Iteration 111 / 200) loss: 1.613499\n",
      "(Epoch 3 / 5) train acc: 0.461000; val_acc: 0.348000\n",
      "(Iteration 121 / 200) loss: 1.484561\n",
      "(Iteration 131 / 200) loss: 1.367925\n",
      "(Iteration 141 / 200) loss: 1.507448\n",
      "(Iteration 151 / 200) loss: 1.249560\n",
      "(Epoch 4 / 5) train acc: 0.540000; val_acc: 0.391000\n",
      "(Iteration 161 / 200) loss: 1.376461\n",
      "(Iteration 171 / 200) loss: 1.306346\n",
      "(Iteration 181 / 200) loss: 1.287111\n",
      "(Iteration 191 / 200) loss: 1.212854\n",
      "(Epoch 5 / 5) train acc: 0.602000; val_acc: 0.355000\n",
      "\n",
      "running with  rmsprop\n",
      "(Iteration 1 / 200) loss: 3.290937\n"
     ]
    },
    {
     "name": "stderr",
     "output_type": "stream",
     "text": [
      "/Users/richard/assignment2/cs231n/optim.py:114: RuntimeWarning: invalid value encountered in sqrt\n",
      "  next_w = w - learning_rate * dw / (np.sqrt(cache)+eps)\n"
     ]
    },
    {
     "name": "stdout",
     "output_type": "stream",
     "text": [
      "(Epoch 0 / 5) train acc: 0.137000; val_acc: 0.142000\n",
      "(Iteration 11 / 200) loss: 1.969015\n",
      "(Iteration 21 / 200) loss: 2.035952\n",
      "(Iteration 31 / 200) loss: 1.896695\n",
      "(Epoch 1 / 5) train acc: 0.372000; val_acc: 0.310000\n",
      "(Iteration 41 / 200) loss: 1.821882\n",
      "(Iteration 51 / 200) loss: 1.774426\n",
      "(Iteration 61 / 200) loss: 1.646803\n",
      "(Iteration 71 / 200) loss: 1.611647\n",
      "(Epoch 2 / 5) train acc: 0.421000; val_acc: 0.335000\n",
      "(Iteration 81 / 200) loss: 1.736601\n",
      "(Iteration 91 / 200) loss: 1.698145\n",
      "(Iteration 101 / 200) loss: 1.665090\n",
      "(Iteration 111 / 200) loss: 1.565485\n",
      "(Epoch 3 / 5) train acc: 0.476000; val_acc: 0.351000\n",
      "(Iteration 121 / 200) loss: 1.593384\n",
      "(Iteration 131 / 200) loss: 1.428578\n",
      "(Iteration 141 / 200) loss: 1.573804\n",
      "(Iteration 151 / 200) loss: 1.431412\n",
      "(Epoch 4 / 5) train acc: 0.533000; val_acc: 0.365000\n",
      "(Iteration 161 / 200) loss: 1.331144\n",
      "(Iteration 171 / 200) loss: 1.399242\n",
      "(Iteration 181 / 200) loss: 1.388076\n",
      "(Iteration 191 / 200) loss: 1.442312\n",
      "(Epoch 5 / 5) train acc: 0.555000; val_acc: 0.352000\n",
      "\n"
     ]
    },
    {
     "name": "stderr",
     "output_type": "stream",
     "text": [
      "/Users/richard/anaconda3/lib/python3.6/site-packages/matplotlib/cbook/deprecation.py:107: MatplotlibDeprecationWarning: Adding an axes using the same arguments as a previous axes currently reuses the earlier instance.  In a future version, a new instance will always be created and returned.  Meanwhile, this warning can be suppressed, and the future behavior ensured, by passing a unique label to each axes instance.\n",
      "  warnings.warn(message, mplDeprecation, stacklevel=1)\n"
     ]
    },
    {
     "data": {
      "image/png": "[encoded data removed]",
      "text/plain": [
       "<Figure size 1080x1080 with 3 Axes>"
      ]
     },
     "metadata": {},
     "output_type": "display_data"
    }
   ],
   "source": [
    "learning_rates = {'rmsprop': 1e-4, 'adam': 1e-3}\n",
    "for update_rule in ['adam', 'rmsprop']:\n",
    "  print('running with ', update_rule)\n",
    "  model = FullyConnectedNet([100, 100, 100, 100, 100], weight_scale=5e-2)\n",
    "\n",
    "  solver = Solver(model, small_data,\n",
    "                  num_epochs=5, batch_size=100,\n",
    "                  update_rule=update_rule,\n",
    "                  optim_config={\n",
    "                    'learning_rate': learning_rates[update_rule]\n",
    "                  },\n",
    "                  verbose=True)\n",
    "  solvers[update_rule] = solver\n",
    "  solver.train()\n",
    "  print()\n",
    "\n",
    "plt.subplot(3, 1, 1)\n",
    "plt.title('Training loss')\n",
    "plt.xlabel('Iteration')\n",
    "\n",
    "plt.subplot(3, 1, 2)\n",
    "plt.title('Training accuracy')\n",
    "plt.xlabel('Epoch')\n",
    "\n",
    "plt.subplot(3, 1, 3)\n",
    "plt.title('Validation accuracy')\n",
    "plt.xlabel('Epoch')\n",
    "\n",
    "for update_rule, solver in list(solvers.items()):\n",
    "  plt.subplot(3, 1, 1)\n",
    "  plt.plot(solver.loss_history, 'o', label=update_rule)\n",
    "  \n",
    "  plt.subplot(3, 1, 2)\n",
    "  plt.plot(solver.train_acc_history, '-o', label=update_rule)\n",
    "\n",
    "  plt.subplot(3, 1, 3)\n",
    "  plt.plot(solver.val_acc_history, '-o', label=update_rule)\n",
    "  \n",
    "for i in [1, 2, 3]:\n",
    "  plt.subplot(3, 1, i)\n",
    "  plt.legend(loc='upper center', ncol=4)\n",
    "plt.gcf().set_size_inches(15, 15)\n",
    "plt.show()"
   ]
  },
  {
   "cell_type": "markdown",
   "metadata": {},
   "source": [
    "## Inline Question 3:\n",
    "\n",
    "AdaGrad, like Adam, is a per-parameter optimization method that uses the following update rule:\n",
    "\n",
    "```\n",
    "cache += dw**2\n",
    "w += - learning_rate * dw / (np.sqrt(cache) + eps)\n",
    "```\n",
    "\n",
    "John notices that when he was training a network with AdaGrad that the updates became very small, and that his network was learning slowly. Using your knowledge of the AdaGrad update rule, why do you think the updates would become very small? Would Adam have the same issue?\n"
   ]
  },
  {
   "cell_type": "markdown",
   "metadata": {},
   "source": [
    "## Answer: \n"
   ]
  },
  {
   "cell_type": "markdown",
   "metadata": {},
   "source": [
    "# Train a good model!\n",
    "Train the best fully-connected model that you can on CIFAR-10, storing your best model in the `best_model` variable. We require you to get at least 50% accuracy on the validation set using a fully-connected net.\n",
    "\n",
    "If you are careful it should be possible to get accuracies above 55%, but we don't require it for this part and won't assign extra credit for doing so. Later in the assignment we will ask you to train the best convolutional network that you can on CIFAR-10, and we would prefer that you spend your effort working on convolutional nets rather than fully-connected nets.\n",
    "\n",
    "You might find it useful to complete the `BatchNormalization.ipynb` and `Dropout.ipynb` notebooks before completing this part, since those techniques can help you train powerful models."
   ]
  },
  {
   "cell_type": "code",
   "execution_count": null,
   "metadata": {
    "collapsed": true,
    "scrolled": false
   },
   "outputs": [],
   "source": [
    "best_model = None\n",
    "################################################################################\n",
    "# TODO: Train the best FullyConnectedNet that you can on CIFAR-10. You might   #\n",
    "# find batch/layer normalization and dropout useful. Store your best model in  #\n",
    "# the best_model variable.                                                     #\n",
    "################################################################################\n",
    "\n",
    "\n",
    "\n",
    "\n",
    "\n",
    "\n",
    "pass\n",
    "################################################################################\n",
    "#                              END OF YOUR CODE                                #\n",
    "################################################################################"
   ]
  },
  {
   "cell_type": "markdown",
   "metadata": {},
   "source": [
    "# Test your model!\n",
    "Run your best model on the validation and test sets. You should achieve above 50% accuracy on the validation set."
   ]
  },
  {
   "cell_type": "code",
   "execution_count": null,
   "metadata": {
    "collapsed": true
   },
   "outputs": [],
   "source": [
    "y_test_pred = np.argmax(best_model.loss(data['X_test']), axis=1)\n",
    "y_val_pred = np.argmax(best_model.loss(data['X_val']), axis=1)\n",
    "print('Validation set accuracy: ', (y_val_pred == data['y_val']).mean())\n",
    "print('Test set accuracy: ', (y_test_pred == data['y_test']).mean())"
   ]
  }
 ],
 "metadata": {
  "kernelspec": {
   "display_name": "Python 3",
   "language": "python",
   "name": "python3"
  },
  "language_info": {
   "codemirror_mode": {
    "name": "ipython",
    "version": 3
   },
   "file_extension": ".py",
   "mimetype": "text/x-python",
   "name": "python",
   "nbconvert_exporter": "python",
   "pygments_lexer": "ipython3",
   "version": "3.6.4"
  }
 },
 "nbformat": 4,
 "nbformat_minor": 2
}
